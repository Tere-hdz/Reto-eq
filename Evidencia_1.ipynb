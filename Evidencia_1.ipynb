{
  "cells": [
    {
      "cell_type": "markdown",
      "metadata": {
        "id": "view-in-github",
        "colab_type": "text"
      },
      "source": [
        "<a href=\"https://colab.research.google.com/github/Tere-hdz/Reto-eq/blob/main/Evidencia_1.ipynb\" target=\"_parent\"><img src=\"https://colab.research.google.com/assets/colab-badge.svg\" alt=\"Open In Colab\"/></a>"
      ]
    },
    {
      "cell_type": "markdown",
      "metadata": {
        "id": "vDRXV9k3VE_m"
      },
      "source": [
        "#**Evidencia 1**\n",
        "\n",
        "Integrantes del equipo ImporTec:\n",
        "\n",
        "* Diana Paola Aguilar Hinojosa | A01733009 representante\n",
        "* Maria Teresa Hernández Cid | A01734400\n",
        "* Estephania Matus Vázquez | A01731033\n",
        "* Adrián Urabayen Arriaga | A01733911\n",
        "* Luis Javier Gutierrez Márquez | A01734254\n",
        "\n",
        "\n",
        "Link del colab. https://colab.research.google.com/drive/1ahD35IPfZVqblaqVTNWK4IBU1ugPTBLW?usp=sharing"
      ]
    },
    {
      "cell_type": "code",
      "execution_count": null,
      "metadata": {
        "id": "KJ3nEN5bQuih"
      },
      "outputs": [],
      "source": [
        "import pandas as pd\n",
        "from pandas import DataFrame\n",
        "import numpy as np\n",
        "from numpy import nan as NaN\n",
        "import matplotlib.pyplot as plt\n",
        "import seaborn as sns"
      ]
    },
    {
      "cell_type": "code",
      "execution_count": null,
      "metadata": {
        "colab": {
          "base_uri": "https://localhost:8080/"
        },
        "id": "4Rx_CsrfVSC2",
        "outputId": "58854414-de2c-4207-d7c3-c1bd259ceb21"
      },
      "outputs": [
        {
          "output_type": "stream",
          "name": "stderr",
          "text": [
            "/usr/local/lib/python3.7/dist-packages/IPython/core/interactiveshell.py:3326: DtypeWarning: Columns (17,19,21,25,26,27,29,30,31,32,34) have mixed types.Specify dtype option on import or set low_memory=False.\n",
            "  exec(code_obj, self.user_global_ns, self.user_ns)\n"
          ]
        }
      ],
      "source": [
        "df=pd.read_csv('mergefinal.csv',delimiter=',')\n",
        "trans=pd.read_csv('Transaction_Final.csv')\n",
        "#Elimino columna que se genera cuando se descarga el archivo.\n",
        "df=df.drop('Unnamed: 0',axis=1)\n",
        "trans=trans.drop('Unnamed: 0',axis=1)"
      ]
    },
    {
      "cell_type": "markdown",
      "metadata": {
        "id": "b38rub-qVmpv"
      },
      "source": [
        "## **PUNTO 1. Estadística Descriptiva**\n"
      ]
    },
    {
      "cell_type": "markdown",
      "metadata": {
        "id": "meRa6cj9m0b_"
      },
      "source": [
        "###**Análisis Descriptivo**"
      ]
    },
    {
      "cell_type": "code",
      "execution_count": null,
      "metadata": {
        "colab": {
          "base_uri": "https://localhost:8080/"
        },
        "id": "HWnajdcrS5q5",
        "outputId": "dd741d9c-7490-4bc1-a407-17588cb6efff"
      },
      "outputs": [
        {
          "output_type": "execute_result",
          "data": {
            "text/plain": [
              "   CUSTOMERID    FIRSTNAME LASTNAME           COMPANYNAME  CURRENCYID  \\\n",
              "0           1  AIDA CORRES   ERNULT  Una mano para Oaxaca           1   \n",
              "1           1  AIDA CORRES   ERNULT  Una mano para Oaxaca           1   \n",
              "2           1  AIDA CORRES   ERNULT  Una mano para Oaxaca           1   \n",
              "3           1  AIDA CORRES   ERNULT  Una mano para Oaxaca           1   \n",
              "4           1  AIDA CORRES   ERNULT  Una mano para Oaxaca           1   \n",
              "\n",
              "           TAXID REGIME  XMLCOUNT                 DATE INVOICETYPE  ...  \\\n",
              "0  COEA9201018W6      -        41  2017-11-13 07:19:05     ingreso  ...   \n",
              "1  COEA9201018W6      -        41  2017-12-28 06:35:33      egreso  ...   \n",
              "2  COEA9201018W6      -        41  2017-12-06 15:02:27      egreso  ...   \n",
              "3  COEA9201018W6      -        41  2017-12-02 02:51:29      egreso  ...   \n",
              "4  COEA9201018W6      -        41  2017-12-14 12:32:25     ingreso  ...   \n",
              "\n",
              "                          TRANSACTIONID                 CREATEDDATE  \\\n",
              "0  AAA157C5-381F-45C5-9833-7B483A67BDB3  2018-01-13 21:32:32.420000   \n",
              "1  5046298A-8E61-43E9-9888-D2905450D5D4  2018-01-13 21:33:42.830000   \n",
              "2  AAA16D1C-D98C-40A2-AFA5-A277945BBCF6  2018-01-13 21:33:42.870000   \n",
              "3  E66C1F41-9810-4340-9EEE-C17971EFEB04  2018-01-13 21:33:42.980000   \n",
              "4  81c2f4f0-9d7e-485b-8015-cbcb140874c2         2018-01-13 21:33:43   \n",
              "\n",
              "  USERSTATUS AMOUNTPAID  ISPAYMENTPENDING  INVOICETYPE_INITIAL PAYMETHODCODE  \\\n",
              "0       True        0.0                 0                    i             0   \n",
              "1       True        0.0                 0                    e             0   \n",
              "2       True        0.0                 0                    e             0   \n",
              "3       True        0.0                 0                    e             0   \n",
              "4       True        0.0                 0                    i             0   \n",
              "\n",
              "   INVOICETYPE_INITIAL_ORIGINAL XMLIEPSTAX  XMLCURRENCY  \n",
              "0                             0        0.0            0  \n",
              "1                             0        0.0            0  \n",
              "2                             0        0.0            0  \n",
              "3                             0        0.0            0  \n",
              "4                             0        0.0            0  \n",
              "\n",
              "[5 rows x 34 columns]"
            ],
            "text/html": [
              "\n",
              "  <div id=\"df-901de8c5-4044-4ebf-9ff1-869b3c4b9d0f\">\n",
              "    <div class=\"colab-df-container\">\n",
              "      <div>\n",
              "<style scoped>\n",
              "    .dataframe tbody tr th:only-of-type {\n",
              "        vertical-align: middle;\n",
              "    }\n",
              "\n",
              "    .dataframe tbody tr th {\n",
              "        vertical-align: top;\n",
              "    }\n",
              "\n",
              "    .dataframe thead th {\n",
              "        text-align: right;\n",
              "    }\n",
              "</style>\n",
              "<table border=\"1\" class=\"dataframe\">\n",
              "  <thead>\n",
              "    <tr style=\"text-align: right;\">\n",
              "      <th></th>\n",
              "      <th>CUSTOMERID</th>\n",
              "      <th>FIRSTNAME</th>\n",
              "      <th>LASTNAME</th>\n",
              "      <th>COMPANYNAME</th>\n",
              "      <th>CURRENCYID</th>\n",
              "      <th>TAXID</th>\n",
              "      <th>REGIME</th>\n",
              "      <th>XMLCOUNT</th>\n",
              "      <th>DATE</th>\n",
              "      <th>INVOICETYPE</th>\n",
              "      <th>...</th>\n",
              "      <th>TRANSACTIONID</th>\n",
              "      <th>CREATEDDATE</th>\n",
              "      <th>USERSTATUS</th>\n",
              "      <th>AMOUNTPAID</th>\n",
              "      <th>ISPAYMENTPENDING</th>\n",
              "      <th>INVOICETYPE_INITIAL</th>\n",
              "      <th>PAYMETHODCODE</th>\n",
              "      <th>INVOICETYPE_INITIAL_ORIGINAL</th>\n",
              "      <th>XMLIEPSTAX</th>\n",
              "      <th>XMLCURRENCY</th>\n",
              "    </tr>\n",
              "  </thead>\n",
              "  <tbody>\n",
              "    <tr>\n",
              "      <th>0</th>\n",
              "      <td>1</td>\n",
              "      <td>AIDA CORRES</td>\n",
              "      <td>ERNULT</td>\n",
              "      <td>Una mano para Oaxaca</td>\n",
              "      <td>1</td>\n",
              "      <td>COEA9201018W6</td>\n",
              "      <td>-</td>\n",
              "      <td>41</td>\n",
              "      <td>2017-11-13 07:19:05</td>\n",
              "      <td>ingreso</td>\n",
              "      <td>...</td>\n",
              "      <td>AAA157C5-381F-45C5-9833-7B483A67BDB3</td>\n",
              "      <td>2018-01-13 21:32:32.420000</td>\n",
              "      <td>True</td>\n",
              "      <td>0.0</td>\n",
              "      <td>0</td>\n",
              "      <td>i</td>\n",
              "      <td>0</td>\n",
              "      <td>0</td>\n",
              "      <td>0.0</td>\n",
              "      <td>0</td>\n",
              "    </tr>\n",
              "    <tr>\n",
              "      <th>1</th>\n",
              "      <td>1</td>\n",
              "      <td>AIDA CORRES</td>\n",
              "      <td>ERNULT</td>\n",
              "      <td>Una mano para Oaxaca</td>\n",
              "      <td>1</td>\n",
              "      <td>COEA9201018W6</td>\n",
              "      <td>-</td>\n",
              "      <td>41</td>\n",
              "      <td>2017-12-28 06:35:33</td>\n",
              "      <td>egreso</td>\n",
              "      <td>...</td>\n",
              "      <td>5046298A-8E61-43E9-9888-D2905450D5D4</td>\n",
              "      <td>2018-01-13 21:33:42.830000</td>\n",
              "      <td>True</td>\n",
              "      <td>0.0</td>\n",
              "      <td>0</td>\n",
              "      <td>e</td>\n",
              "      <td>0</td>\n",
              "      <td>0</td>\n",
              "      <td>0.0</td>\n",
              "      <td>0</td>\n",
              "    </tr>\n",
              "    <tr>\n",
              "      <th>2</th>\n",
              "      <td>1</td>\n",
              "      <td>AIDA CORRES</td>\n",
              "      <td>ERNULT</td>\n",
              "      <td>Una mano para Oaxaca</td>\n",
              "      <td>1</td>\n",
              "      <td>COEA9201018W6</td>\n",
              "      <td>-</td>\n",
              "      <td>41</td>\n",
              "      <td>2017-12-06 15:02:27</td>\n",
              "      <td>egreso</td>\n",
              "      <td>...</td>\n",
              "      <td>AAA16D1C-D98C-40A2-AFA5-A277945BBCF6</td>\n",
              "      <td>2018-01-13 21:33:42.870000</td>\n",
              "      <td>True</td>\n",
              "      <td>0.0</td>\n",
              "      <td>0</td>\n",
              "      <td>e</td>\n",
              "      <td>0</td>\n",
              "      <td>0</td>\n",
              "      <td>0.0</td>\n",
              "      <td>0</td>\n",
              "    </tr>\n",
              "    <tr>\n",
              "      <th>3</th>\n",
              "      <td>1</td>\n",
              "      <td>AIDA CORRES</td>\n",
              "      <td>ERNULT</td>\n",
              "      <td>Una mano para Oaxaca</td>\n",
              "      <td>1</td>\n",
              "      <td>COEA9201018W6</td>\n",
              "      <td>-</td>\n",
              "      <td>41</td>\n",
              "      <td>2017-12-02 02:51:29</td>\n",
              "      <td>egreso</td>\n",
              "      <td>...</td>\n",
              "      <td>E66C1F41-9810-4340-9EEE-C17971EFEB04</td>\n",
              "      <td>2018-01-13 21:33:42.980000</td>\n",
              "      <td>True</td>\n",
              "      <td>0.0</td>\n",
              "      <td>0</td>\n",
              "      <td>e</td>\n",
              "      <td>0</td>\n",
              "      <td>0</td>\n",
              "      <td>0.0</td>\n",
              "      <td>0</td>\n",
              "    </tr>\n",
              "    <tr>\n",
              "      <th>4</th>\n",
              "      <td>1</td>\n",
              "      <td>AIDA CORRES</td>\n",
              "      <td>ERNULT</td>\n",
              "      <td>Una mano para Oaxaca</td>\n",
              "      <td>1</td>\n",
              "      <td>COEA9201018W6</td>\n",
              "      <td>-</td>\n",
              "      <td>41</td>\n",
              "      <td>2017-12-14 12:32:25</td>\n",
              "      <td>ingreso</td>\n",
              "      <td>...</td>\n",
              "      <td>81c2f4f0-9d7e-485b-8015-cbcb140874c2</td>\n",
              "      <td>2018-01-13 21:33:43</td>\n",
              "      <td>True</td>\n",
              "      <td>0.0</td>\n",
              "      <td>0</td>\n",
              "      <td>i</td>\n",
              "      <td>0</td>\n",
              "      <td>0</td>\n",
              "      <td>0.0</td>\n",
              "      <td>0</td>\n",
              "    </tr>\n",
              "  </tbody>\n",
              "</table>\n",
              "<p>5 rows × 34 columns</p>\n",
              "</div>\n",
              "      <button class=\"colab-df-convert\" onclick=\"convertToInteractive('df-901de8c5-4044-4ebf-9ff1-869b3c4b9d0f')\"\n",
              "              title=\"Convert this dataframe to an interactive table.\"\n",
              "              style=\"display:none;\">\n",
              "        \n",
              "  <svg xmlns=\"http://www.w3.org/2000/svg\" height=\"24px\"viewBox=\"0 0 24 24\"\n",
              "       width=\"24px\">\n",
              "    <path d=\"M0 0h24v24H0V0z\" fill=\"none\"/>\n",
              "    <path d=\"M18.56 5.44l.94 2.06.94-2.06 2.06-.94-2.06-.94-.94-2.06-.94 2.06-2.06.94zm-11 1L8.5 8.5l.94-2.06 2.06-.94-2.06-.94L8.5 2.5l-.94 2.06-2.06.94zm10 10l.94 2.06.94-2.06 2.06-.94-2.06-.94-.94-2.06-.94 2.06-2.06.94z\"/><path d=\"M17.41 7.96l-1.37-1.37c-.4-.4-.92-.59-1.43-.59-.52 0-1.04.2-1.43.59L10.3 9.45l-7.72 7.72c-.78.78-.78 2.05 0 2.83L4 21.41c.39.39.9.59 1.41.59.51 0 1.02-.2 1.41-.59l7.78-7.78 2.81-2.81c.8-.78.8-2.07 0-2.86zM5.41 20L4 18.59l7.72-7.72 1.47 1.35L5.41 20z\"/>\n",
              "  </svg>\n",
              "      </button>\n",
              "      \n",
              "  <style>\n",
              "    .colab-df-container {\n",
              "      display:flex;\n",
              "      flex-wrap:wrap;\n",
              "      gap: 12px;\n",
              "    }\n",
              "\n",
              "    .colab-df-convert {\n",
              "      background-color: #E8F0FE;\n",
              "      border: none;\n",
              "      border-radius: 50%;\n",
              "      cursor: pointer;\n",
              "      display: none;\n",
              "      fill: #1967D2;\n",
              "      height: 32px;\n",
              "      padding: 0 0 0 0;\n",
              "      width: 32px;\n",
              "    }\n",
              "\n",
              "    .colab-df-convert:hover {\n",
              "      background-color: #E2EBFA;\n",
              "      box-shadow: 0px 1px 2px rgba(60, 64, 67, 0.3), 0px 1px 3px 1px rgba(60, 64, 67, 0.15);\n",
              "      fill: #174EA6;\n",
              "    }\n",
              "\n",
              "    [theme=dark] .colab-df-convert {\n",
              "      background-color: #3B4455;\n",
              "      fill: #D2E3FC;\n",
              "    }\n",
              "\n",
              "    [theme=dark] .colab-df-convert:hover {\n",
              "      background-color: #434B5C;\n",
              "      box-shadow: 0px 1px 3px 1px rgba(0, 0, 0, 0.15);\n",
              "      filter: drop-shadow(0px 1px 2px rgba(0, 0, 0, 0.3));\n",
              "      fill: #FFFFFF;\n",
              "    }\n",
              "  </style>\n",
              "\n",
              "      <script>\n",
              "        const buttonEl =\n",
              "          document.querySelector('#df-901de8c5-4044-4ebf-9ff1-869b3c4b9d0f button.colab-df-convert');\n",
              "        buttonEl.style.display =\n",
              "          google.colab.kernel.accessAllowed ? 'block' : 'none';\n",
              "\n",
              "        async function convertToInteractive(key) {\n",
              "          const element = document.querySelector('#df-901de8c5-4044-4ebf-9ff1-869b3c4b9d0f');\n",
              "          const dataTable =\n",
              "            await google.colab.kernel.invokeFunction('convertToInteractive',\n",
              "                                                     [key], {});\n",
              "          if (!dataTable) return;\n",
              "\n",
              "          const docLinkHtml = 'Like what you see? Visit the ' +\n",
              "            '<a target=\"_blank\" href=https://colab.research.google.com/notebooks/data_table.ipynb>data table notebook</a>'\n",
              "            + ' to learn more about interactive tables.';\n",
              "          element.innerHTML = '';\n",
              "          dataTable['output_type'] = 'display_data';\n",
              "          await google.colab.output.renderOutput(dataTable, element);\n",
              "          const docLink = document.createElement('div');\n",
              "          docLink.innerHTML = docLinkHtml;\n",
              "          element.appendChild(docLink);\n",
              "        }\n",
              "      </script>\n",
              "    </div>\n",
              "  </div>\n",
              "  "
            ]
          },
          "metadata": {},
          "execution_count": 31
        }
      ],
      "source": [
        "df.head()"
      ]
    },
    {
      "cell_type": "markdown",
      "metadata": {
        "id": "ZlugDk2mnGPX"
      },
      "source": [
        "####**Medidas de Tendencia Central**"
      ]
    },
    {
      "cell_type": "code",
      "execution_count": null,
      "metadata": {
        "colab": {
          "base_uri": "https://localhost:8080/"
        },
        "id": "gAkGuk3jnoXj",
        "outputId": "f5a4094f-68a2-49f3-facf-233a046861a1"
      },
      "outputs": [
        {
          "output_type": "stream",
          "name": "stdout",
          "text": [
            "ATRIBUTO: XMLCOUNT\n",
            "Promedio:  420.8126778852524\n",
            "Mediana:  72.0\n",
            "Moda:  0    45\n",
            "dtype: int64\n",
            "\n",
            "ATRIBUTO: TOTALTAXTRASADAS\n",
            "Promedio:  16828.808006730043\n",
            "Mediana:  48.43\n",
            "Moda:  0    0.0\n",
            "dtype: float64\n",
            "\n",
            "ATRIBUTO: AMOUNTPAID\n",
            "Promedio:  122814.96057342835\n",
            "Mediana:  594.81\n",
            "Moda:  0    0.0\n",
            "dtype: float64\n"
          ]
        }
      ],
      "source": [
        "#MEDIDAS TENDENCIA CENTRAL\n",
        "\n",
        "\n",
        "#ATRIBUTO: XMLCOUNT\n",
        "print('ATRIBUTO: XMLCOUNT')\n",
        "#media\n",
        "print(\"Promedio: \",df['XMLCOUNT'].mean())\n",
        "#mediana\n",
        "print(\"Mediana: \",df['XMLCOUNT'].median())\n",
        "#moda\n",
        "print(\"Moda: \",df['XMLCOUNT'].mode())\n",
        "print()\n",
        "\n",
        "#ATRIBUTO: TOTALTAXTRASADAS\n",
        "print('ATRIBUTO: TOTALTAXTRASADAS')\n",
        "#media\n",
        "print(\"Promedio: \",df['TOTALTAXTRASADAS'].mean())\n",
        "#mediana\n",
        "print(\"Mediana: \",df['TOTALTAXTRASADAS'].median())\n",
        "#moda\n",
        "print(\"Moda: \",df['TOTALTAXTRASADAS'].mode())\n",
        "print()\n",
        "\n",
        "#ATRIBUTO: AMOUNTPAID\n",
        "print('ATRIBUTO: AMOUNTPAID')\n",
        "#media\n",
        "print(\"Promedio: \",df['AMOUNTPAID'].mean())\n",
        "#mediana\n",
        "print(\"Mediana: \",df['AMOUNTPAID'].median())\n",
        "#moda\n",
        "print(\"Moda: \",df['AMOUNTPAID'].mode())\n",
        "\n"
      ]
    },
    {
      "cell_type": "markdown",
      "metadata": {
        "id": "AthgSxHqoEm5"
      },
      "source": [
        "**ANÁLISIS**\n",
        "\n",
        "Como recordatorio, XMLCOUNT es el número de facturas generadas, TOTALTAXATRASADAS es el total de impuestos pagados sin embargo aquellos que están tarde y el AMOUNTPAID es la cantidad de dinero pagada. Normalmente decidimos tomar como el dato más representativo de un conjunto, el promedio, sin embargo si observamos el XMLCOUNT podremos ver que en promedio se tiene un total de 420 facturas emitidas por cliente, sin embargo, si observamos la mediana veremos que es 72 y que la moda es 0 por lo que se puede deducir que los datos están bastante dispersos y hay clientes que facturan mucho y otros que no toman ventaja de este beneficio de la plataforma. El TOTALTAXATRASADAS y el AMOUNTPAID si bien ambos hablan de dinero, se tienen datos algo diferentes ya que el TOTALTAXATRASADAS tiene que ver con los impuestos que es un porcentaje del AMOUNTPAID. Podemos observar que el TOTALTAXATRASADA sigue lo mismo que mencionabamos anteriormente con las facturas emitidas, tenemos un promedio alto de 16,828 y sin embargo la mediana es 48 lo cual es relativamente nada a comparación del promedio, por lo que indica que estan muy dispersos los datos y lo mismo ocurre con AMOUNTPAID, ya que el promedio es de 122,814 y la mediana es de 594 y no es siquiera la mitad del promedio lo cual todo esto indica que no se pueden sacar conclusiones únicamente viendo estos tres datos. En los tres casos la moda, es decir el número que más se repite es el 0 por lo que se refuerza que los datos están muy dispersos ya que nisiquiera la moda siendo 0 se tuvieron números relativamente cercanos."
      ]
    },
    {
      "cell_type": "markdown",
      "metadata": {
        "id": "T77OHtH6nOtl"
      },
      "source": [
        "####**Medidas de Dispersión**"
      ]
    },
    {
      "cell_type": "code",
      "execution_count": null,
      "metadata": {
        "colab": {
          "base_uri": "https://localhost:8080/"
        },
        "id": "jCm7xFHw04ZI",
        "outputId": "c4fb6740-3918-4776-8a2e-a3f98db6b713"
      },
      "outputs": [
        {
          "output_type": "stream",
          "name": "stdout",
          "text": [
            "Rango:  3775\n",
            "Desviación típica:  768.7138054825714\n",
            "Coeficiente de variación:  1.8267411678069818\n",
            "\n",
            "Rango:  2551724138.08\n",
            "Desviación típica:  6457136.107039599\n",
            "Coeficiente de variación:  383.6966217991464\n",
            "\n",
            "Rango:  18500000001.08\n",
            "Desviación típica:  46814238.03839248\n",
            "Coeficiente de variación:  381.1782188967405\n"
          ]
        }
      ],
      "source": [
        "#MEDIDAS DE DISPERSIÓN\n",
        "\n",
        "#ATRIBUTO: XMLCOUNT\n",
        "#Rango\n",
        "print(\"Rango: \", df['XMLCOUNT'].max()-df['XMLCOUNT'].min())\n",
        "#Desv Estándar\n",
        "print(\"Desviación típica: \",df['XMLCOUNT'].std(ddof=0))\n",
        "#Coef de variación\n",
        "print(\"Coeficiente de variación: \", df['XMLCOUNT'].std()/df['XMLCOUNT'].mean())\n",
        "print()\n",
        "\n",
        "#ATRIBUTO: TOTALTAXTRASADAS\n",
        "#Rango\n",
        "print(\"Rango: \", df['TOTALTAXTRASADAS'].max()-df['TOTALTAXTRASADAS'].min())\n",
        "#Desv Estándar\n",
        "print(\"Desviación típica: \",df['TOTALTAXTRASADAS'].std(ddof=0))\n",
        "#Coef de variación\n",
        "print(\"Coeficiente de variación: \", df['TOTALTAXTRASADAS'].std()/df['TOTALTAXTRASADAS'].mean())\n",
        "print()\n",
        "\n",
        "#ATRIBUTO: AMOUNTPAID\n",
        "#Rango\n",
        "print(\"Rango: \", df['AMOUNTPAID'].max()-df['AMOUNTPAID'].min())\n",
        "#Desv Estándar\n",
        "print(\"Desviación típica: \",df['AMOUNTPAID'].std(ddof=0))\n",
        "#Coef de variación\n",
        "print(\"Coeficiente de variación: \", df['AMOUNTPAID'].std()/df['AMOUNTPAID'].mean())\n",
        "\n"
      ]
    },
    {
      "cell_type": "markdown",
      "metadata": {
        "id": "EwjjcNMloMHb"
      },
      "source": [
        "**ANÁLISIS**\n",
        "\n",
        "Como podemos ver en las variables de TOTALTAXTRASADAS y AMOUNTPAID los datos varían mucho entre ellos. Mientras que en la variable XMLCOUNT es un rango menor entre el dato mínimo y máximo por lo tanto la variación en comparación con los otros dos parámetros es mucho menor."
      ]
    },
    {
      "cell_type": "markdown",
      "metadata": {
        "id": "iSPc8nqHnShA"
      },
      "source": [
        "####**Medidas de Ubicación**"
      ]
    },
    {
      "cell_type": "code",
      "execution_count": null,
      "metadata": {
        "colab": {
          "base_uri": "https://localhost:8080/"
        },
        "id": "esmlTUD21zME",
        "outputId": "b565a50e-ddf7-42ce-afde-fa57f41cb669"
      },
      "outputs": [
        {
          "output_type": "stream",
          "name": "stdout",
          "text": [
            "Cuartil 1 [25%]:  45.0\n",
            "Cuartil 3 [75%]:  435.0\n",
            "Decil 1 [10%]:  4.0\n",
            "Decil 9 [90%]:  1230.0\n",
            "\n",
            "Cuartil 1 [25%]:  0.0\n",
            "Cuartil 3 [75%]:  191.615\n",
            "Decil 1 [10%]:  0.0\n",
            "Decil 9 [90%]:  792.98\n",
            "\n",
            "Cuartil 1 [25%]:  100.0\n",
            "Cuartil 3 [75%]:  2030.0\n",
            "Decil 1 [10%]:  0.0\n",
            "Decil 9 [90%]:  7500.0\n"
          ]
        }
      ],
      "source": [
        "#MEDIDAS DE POSICIÓN \n",
        "\n",
        "#ATRIBUTO: AMOUNTPAID\n",
        "print(\"Cuartil 1 [25%]: \",df['XMLCOUNT'].quantile(q=0.25))\n",
        "print(\"Cuartil 3 [75%]: \", df['XMLCOUNT'].quantile(q=0.75))\n",
        "print(\"Decil 1 [10%]: \", df['XMLCOUNT'].quantile(q=0.1))\n",
        "print(\"Decil 9 [90%]: \", df['XMLCOUNT'].quantile(q=0.9))\n",
        "print()\n",
        "\n",
        "#ATRIBUTO: TOTALTAXTRASADAS\n",
        "print(\"Cuartil 1 [25%]: \",df['TOTALTAXTRASADAS'].quantile(q=0.25))\n",
        "print(\"Cuartil 3 [75%]: \", df['TOTALTAXTRASADAS'].quantile(q=0.75))\n",
        "print(\"Decil 1 [10%]: \", df['TOTALTAXTRASADAS'].quantile(q=0.1))\n",
        "print(\"Decil 9 [90%]: \", df['TOTALTAXTRASADAS'].quantile(q=0.9))\n",
        "print()\n",
        "\n",
        "\n",
        "#ATRIBUTO: AMOUNTPAID\n",
        "print(\"Cuartil 1 [25%]: \",df['AMOUNTPAID'].quantile(q=0.25))\n",
        "print(\"Cuartil 3 [75%]: \", df['AMOUNTPAID'].quantile(q=0.75))\n",
        "print(\"Decil 1 [10%]: \", df['AMOUNTPAID'].quantile(q=0.1))\n",
        "print(\"Decil 9 [90%]: \", df['AMOUNTPAID'].quantile(q=0.9))"
      ]
    },
    {
      "cell_type": "markdown",
      "metadata": {
        "id": "wYvDOcNHoLDW"
      },
      "source": [
        "**ANÁLISIS**\n",
        "\n",
        "Como se había previsto los datos de XMLCOUNT entre el 1er cuartil y el 3ero no hay tanta variación de los datos.\n",
        "\n",
        "\n",
        "En el sets de datos 'TOTALTAXTRASADAS' podemos ver como el 25% de los datos es cero por lo tanto debemos de tener cuidado al realizar las gráficas de este conjunto de datos ya que puede ser dificil de visualizar. Así mismo podemos ver que el tercer cuartil tiene 191.615 y el noveno decil tiene 792.98 osea entre el 75% y el 90% hay demasiado cambio de los datos.\n",
        "\n",
        "En el set de datos 'AMOUNTPAID' es algo muy parecido ya que entre el primer cuartil y el 3er hay variación pero no tanta y entre el 75% y el 90% podemos ver que hay una variación de los datos muy grande.\n",
        "\n",
        "Todo esto se tomará en cuenta para la visualización de los datos de forma gráfica."
      ]
    },
    {
      "cell_type": "markdown",
      "metadata": {
        "id": "kAofn5JL6Aab"
      },
      "source": [
        "###**Gráficas**"
      ]
    },
    {
      "cell_type": "markdown",
      "metadata": {
        "id": "O4L2LZnYkZMe"
      },
      "source": [
        "####**Gráfico de Pastel**"
      ]
    },
    {
      "cell_type": "code",
      "execution_count": null,
      "metadata": {
        "colab": {
          "base_uri": "https://localhost:8080/"
        },
        "id": "VrT-DCmQKy4Y",
        "outputId": "4002355f-3c6b-42e1-cbe8-524f9d984e3c"
      },
      "outputs": [
        {
          "output_type": "display_data",
          "data": {
            "text/plain": [
              "<Figure size 432x288 with 1 Axes>"
            ],
            "image/png": "[encoded data removed]"
          },
          "metadata": {}
        }
      ],
      "source": [
        "#Gráfico de Pastel\n",
        "\n",
        "#Clasificación de clientes \n",
        "trans.loc[trans['DEBITAMOUNT'].between(1,205.5, 'both'), 'DEBITAMOUNT_Level'] = 'Cantidad baja'\n",
        "trans.loc[trans['DEBITAMOUNT'].between(205.5,1160.18, 'right'), 'DEBITAMOUNT_Level'] = 'Cantidad media'\n",
        "trans.loc[trans['DEBITAMOUNT'].between(1160.18,10000, 'right'), 'DEBITAMOUNT_Level'] = 'Cantidad alta'\n",
        "\n",
        "#Gráfica\n",
        "x=['Cantidad muy baja','Cantidad media','Cantidad alta']\n",
        "y=trans['DEBITAMOUNT_Level'].value_counts()\n",
        "\n",
        "plt.pie(y, labels=x,startangle=90,shadow=True,colors=['#7FFFD4','orange','#cbf456'],autopct='%1.1f%%')\n",
        "plt.title(\"Porcentaje de clasificación de retiros\")\n",
        "\n",
        "\n",
        "plt.show()\n"
      ]
    },
    {
      "cell_type": "markdown",
      "metadata": {
        "id": "J7o9UwEi7-7J"
      },
      "source": [
        "**Justificación:** \n",
        "\n",
        "En primer lugar, cabe destacar que se hizo la categorización de la variable numérica DebitAMOUNT y se creó una nueva columna con tres posibles valores definidos por tres rangos numéricos.\n",
        "\n",
        "Como podemos observar, el gráfico de pastel será el óptimo para representar este tipo de datos; ya que, nos permite observar el porcentaje obtenido de cada uno de los valores posibles respecto del total, de manera muy sencilla e intuitiva. Es útil mostrar estos datos de manera visual, porque con un simple vistazo a la gráfica ya podemos saber en unos segundos los detalles y las características de la variable DEBITAMOUNT de manera general.\n",
        "\n",
        "Podemos concluir de la gráfica que la mayor parte de los retiros serán de cantidades bajas (36.6 %), seguidas por las de cantidad media (33.5 %) y la menor parte de los retiros serán de cantidades altas (29.9 %).\n",
        "\n"
      ]
    },
    {
      "cell_type": "code",
      "execution_count": null,
      "metadata": {
        "colab": {
          "base_uri": "https://localhost:8080/"
        },
        "id": "6hfJzqCX79XE",
        "outputId": "4b04ac1f-b0ca-45c9-9e84-c16523428039"
      },
      "outputs": [
        {
          "output_type": "display_data",
          "data": {
            "text/plain": [
              "<Figure size 432x288 with 1 Axes>"
            ],
            "image/png": "[encoded data removed]"
          },
          "metadata": {}
        }
      ],
      "source": [
        "#Gráfico de Pastel\n",
        "\n",
        "#Groupby\n",
        "cliente=df.groupby('CUSTOMERID').aggregate({'TOTALREGISTERTAX': [np.median,sum,np.mean],'VATAMOUNT': [np.median,sum,np.mean],'VATAMT': [np.median,sum,np.mean],'AMOUNTPAID': [np.median,sum,np.mean],'XMLIEPSTAX': [np.median,sum,np.mean]})\n",
        "cliente=cliente.sort_values(by=('TOTALREGISTERTAX', 'sum'),ascending=False)\n",
        "cliente=cliente.head()\n",
        "\n",
        "#Gráfica\n",
        "import matplotlib.pyplot as plt\n",
        "\n",
        "x=cliente.index\n",
        "y=cliente[('TOTALREGISTERTAX', 'sum')]\n",
        "\n",
        "plt.pie(y, labels=x,startangle=90,shadow=True,colors=['#7FFFD4','orange','#cbf456','#E9967A','#456cab','gray'],autopct='%1.1f%%')\n",
        "plt.title(\"Suma de taxes Totales registradas por ID de cliente\")\n",
        "\n",
        "plt.show()\n"
      ]
    },
    {
      "cell_type": "markdown",
      "metadata": {
        "id": "IXi9tOVCMBs0"
      },
      "source": [
        "**Justificación** \n",
        "\n",
        "Es útil para que los clientes visualicen en el dashboard, al final de su ciclo del contribuyente los totales de impuestos generados, acorde al tipo de cliente que pertenezcan; siendo estos físicos o morales. \n",
        "\n",
        "Debido a que contamos con un gráfico de Pie, este facilita la visulización en porcentaje de los impuestos que tienen que pagar los clientes. Lo cual, les puede ayudar a tener un control en su poder adquisitivo. De igual manera, es útil mostrar de manera visual estos datos, porque como a los gráficos de Pie se les puede integrar color y a su vez las rebanadas de este son una proporción del total, resulta más fácil para ContaAyuda la ubicación de los clientes que generan una cantidad significativa de impuestos.\n"
      ]
    },
    {
      "cell_type": "markdown",
      "metadata": {
        "id": "yQZC9Jmukfxh"
      },
      "source": [
        "####**Gráfica de Barras**"
      ]
    },
    {
      "cell_type": "code",
      "execution_count": null,
      "metadata": {
        "colab": {
          "base_uri": "https://localhost:8080/"
        },
        "id": "Q9_cFicX8Fxa",
        "outputId": "763cc6f2-1cbb-4aea-94bc-f8cd67b54c98"
      },
      "outputs": [
        {
          "output_type": "display_data",
          "data": {
            "text/plain": [
              "<Figure size 576x432 with 1 Axes>"
            ],
            "image/png": "[encoded data removed]"
          },
          "metadata": {
            "needs_background": "light"
          }
        }
      ],
      "source": [
        "#Gráfica 3.BARRAS\n",
        "#VATAMOUNT-VATAMT por cliente\n",
        "\n",
        "clienteo=cliente.sort_values(by=('VATAMOUNT', 'mean'),ascending=False)\n",
        "clienteo=clienteo.head(10)\n",
        "clienteo=clienteo[('VATAMOUNT', 'mean')]\n",
        "clienteo\n",
        "\n",
        "#Grafica\n",
        "fig=plt.figure(figsize = [8,6])\n",
        "ax1=fig.add_subplot(1,1,1)\n",
        "ax1.bar(clienteo.index,clienteo,color=\"green\",alpha=0.8)\n",
        "ax1.set_ylabel(\"VAT AMOUNT\")\n",
        "ax1.set_xlabel(\"ID DE CLIENTE\")\n",
        "ax1.set_title(\"Monto del IVA perteneciente a la factura\")\n",
        "\n",
        "plt.show()\n"
      ]
    },
    {
      "cell_type": "markdown",
      "metadata": {
        "id": "_oqZwLIE8HcS"
      },
      "source": [
        "**Justificación** \n",
        "\n",
        "Esta gráfica muestra el ID del cliente con la cantidad de VAT de los 10 clientes con los valores de VAT más alto. Este tipo de información será útil para ContaAyuda cuando decidan hacer análisis más fuertes tales como que clientes están teniendo más pérdidas por causa de los impuestos y en caso de que sea posible pedir algún reembolso por parte del SAT para ver si existe la posibilidad o si bien verificar que los clientes estén haciendo sus abonos y deducciones de manera correcta\n",
        "\n",
        "Este tipo de gráfico es bueno ya que no solo se visualiza el promedio de VAT por cliente si no que permite realizar los comparativos y es mucho más visual que si fuera uno de dispersión que únicamente muestra los valores. Este gráfico también es útil para comparar dos atributos diferentes. Como se mencionó, se hizo un análisis de promedios previamente para poder graficar eso y es ese valor el que se decidió graficar. Como lo dice su título la gráfica muestra el monto del IVA perteneciente a las facturas de los clientes. "
      ]
    },
    {
      "cell_type": "markdown",
      "metadata": {
        "id": "KRqxI84hkq4V"
      },
      "source": [
        "####**Mapa de Color**"
      ]
    },
    {
      "cell_type": "code",
      "execution_count": null,
      "metadata": {
        "colab": {
          "base_uri": "https://localhost:8080/"
        },
        "id": "Q6YWPPP5TqnI",
        "outputId": "8e6b06c0-35e9-4053-e8de-48c94c40b8df"
      },
      "outputs": [
        {
          "output_type": "display_data",
          "data": {
            "text/plain": [
              "<Figure size 432x288 with 2 Axes>"
            ],
            "image/png": "[encoded data removed]"
          },
          "metadata": {
            "needs_background": "light"
          }
        }
      ],
      "source": [
        "#Mapa de color\n",
        "\n",
        "mapa=df.groupby('CUSTOMERID').agg(Before_Tax=('TOTALBEFORTAX', \"mean\"),After_Tax=('TOTALAFTERTAX',\"mean\"))\n",
        "mapa=mapa.sort_values(by='Before_Tax',ascending=True).head(10)\n",
        "\n",
        "\n",
        "#Con seaborn\n",
        "import seaborn as sns\n",
        "ax = sns.heatmap(mapa, linewidth=0.3,cmap='hot')\n",
        "plt.title(\"Total Antes y Depues de aplicar impuestos a la factura\")\n",
        "plt.show()"
      ]
    },
    {
      "cell_type": "markdown",
      "metadata": {
        "id": "3RYmvGml8LLV"
      },
      "source": [
        "**Justificación** \n",
        "\n",
        "Es conveniente utilizar este tipo de gráfica podemos de esa manera podemos observar visualmente si realmente hay un cambio en la factura antes y después de aplicar los impuestos, con un código de colores. \n",
        "\n",
        "Con ello podemos obtener información de cada cliente sobre si tenemos un cambio abrupto en cuanto a taxes, e identificar en que clientes sucede para poder hacer un análisis más a detalle. En este caso observamos que los clientes donde hay un cambio (reflejado por la intesidad de colores) es en cliente con ID de 69,29, y 91"
      ]
    },
    {
      "cell_type": "markdown",
      "metadata": {
        "id": "UQTTuQ1RkuyB"
      },
      "source": [
        "####**Histograma**"
      ]
    },
    {
      "cell_type": "code",
      "execution_count": null,
      "metadata": {
        "colab": {
          "base_uri": "https://localhost:8080/"
        },
        "id": "sIZ-yhfl7KMy",
        "outputId": "92b695b8-1f7e-4446-f0dd-c250f83a1333"
      },
      "outputs": [
        {
          "output_type": "execute_result",
          "data": {
            "text/plain": [
              "0.01"
            ]
          },
          "metadata": {},
          "execution_count": 39
        }
      ],
      "source": [
        "df3=trans['DEBITAMOUNT']\n",
        "df3=df3[df3!=0]\n",
        "df3.min()"
      ]
    },
    {
      "cell_type": "code",
      "execution_count": null,
      "metadata": {
        "colab": {
          "base_uri": "https://localhost:8080/"
        },
        "id": "LRm9QGzZOsRV",
        "outputId": "49db1bb5-78b1-4c3c-8028-326d1f493ef2"
      },
      "outputs": [
        {
          "output_type": "stream",
          "name": "stdout",
          "text": [
            "0.01 100000.0\n",
            "0.01 127600.0\n"
          ]
        },
        {
          "output_type": "display_data",
          "data": {
            "text/plain": [
              "<Figure size 432x288 with 1 Axes>"
            ],
            "image/png": "[encoded data removed]"
          },
          "metadata": {
            "needs_background": "light"
          }
        }
      ],
      "source": [
        "s3=trans['DEBITAMOUNT']\n",
        "s3=s3[s3!=0]\n",
        "print(s3.min(),s3.max())\n",
        "\n",
        "plt.hist(s3,range(0,26000,1500), rwidth=0.9,label='DEBITAMOUNT', color='orange')\n",
        "\n",
        "s3=trans['CREDITAMOUNT']\n",
        "s3=s3[s3!=0]\n",
        "print(s3.min(),s3.max())\n",
        "\n",
        "plt.hist(s3,range(0,26000,1500), rwidth=0.9,label='CREDITAMOUNT', color='PINK')\n",
        "plt.title(\"Histograma de DEBITAMOUNT y CREDITAMOUNT\")\n",
        "plt.legend()\n",
        "plt.ylabel(\"# de datos\")\n",
        "plt.xlabel(\"$\")\n",
        "\n",
        "plt.show()"
      ]
    },
    {
      "cell_type": "markdown",
      "metadata": {
        "id": "Yk7ZUAATZoBL"
      },
      "source": [
        "**Justificación:** \n",
        "\n",
        "En primer lugar, cabe destacar que se crearon dos series, una para DEBITAMOUNT y otra para CREDITAMOUNT. A estas series se les quitaron los valores = 0; ya que, en el frame generado cuando la variable DEBITAMOUNT tenía un valor, la variable CREDITAMOUNT se registraba como 0. Por lo tanto, se acumulaban 0, los cuales no nos sirven para analizar los datos y imposibilitan la representación e interpretación gráfica.\n",
        "\n",
        "Como podemos observar, el histograma será la gráfica óptima para representar este tipo de datos; ya que, nos permite observar la cantidad de datos registrados entre rangos de la misma magnitud y en un recorrido que nosotros escojamos. Esto fue esencial, ya que debimos probar muchos rangos e intervalos diferentes para conseguir una gráfica que diera la información que queríamos mostrar. Además de esto, también fue muy util graficar los datos en un histograma; ya que nos centramos en los datos de interes y pudimos verlos y a sus características de forma sencilla y visual. Finalmente, esta graficación también nos permitió comparar las dos variables.\n",
        "\n",
        "Por un lado, podemos observar que la gráfica tiene un comportamiento exponencial negativo, y que la mayoría de los datos se encuentran en los primeros intervalos, los cuales son los valores más bajos.\n",
        "Por otro lado, podemos observar que tanto ambas variables siguen el mismo comportamiento, pero la variable CREDITAMOUNT siempre adopta valores más pequeños.\n",
        "Finalmente, cabe destacar que la gráfica se realizó dentro del rango de (0 a 26000) en intervalos iguales de 1500, a fin de analizar ese comportamiento inicial, el cual es el más relevante."
      ]
    },
    {
      "cell_type": "markdown",
      "metadata": {
        "id": "TZzcAY9M6HA3"
      },
      "source": [
        "###**Conclusiones Finales**"
      ]
    },
    {
      "cell_type": "markdown",
      "metadata": {
        "id": "LPLFl1V0k1Wy"
      },
      "source": [
        "Realizar el análisis estadístico de la base de datos del socioformador nos pudo permitir conocer como estan compuestos y la distribución que tiene los datos, después de haber hecho ya anteriormente una limpieza con ellos; quedanonos unicamente con los datos que vamos a ocupar. Observamos datos como mediana, cuartiles, o bien que tan dispersión con respecto a la media como la desviación estándar. \n",
        "Sabiendo esto pudimos empezar a gráficar algunos de los atributos que consideramos importantes para poder visualizarlos de la mejor manera, y sean de fácil comprensión para el usuario, entre dichos atributos están los interéses generados en las facturas. "
      ]
    },
    {
      "cell_type": "markdown",
      "metadata": {
        "id": "k7ZQkxiiYJQ8"
      },
      "source": [
        "##**PUNTO 2. Determinación del conjunto de datos**"
      ]
    },
    {
      "cell_type": "code",
      "source": [
        "df=df.dropna(axis=0,how='any')\n"
      ],
      "metadata": {
        "id": "MbmDCu9kogBX"
      },
      "execution_count": null,
      "outputs": []
    },
    {
      "cell_type": "markdown",
      "source": [
        "Dado que inicialmente empezaremos a hacer el análisis numérico dejaremos momentaneamente de lado las variables categóricas ya que no son indispensables para hacer los modelos de regresión.\n",
        "\n",
        "Después de realizar el merge, se presentaron de nuevo valores nulos a pesar de tener ya una base limpia.\n",
        "Por lo tanto, eliminamos aquellos registros que presenten algún valor nulo, puesto que aún nos quedamos con una muestra lo suficientemente grande para obtener resultados estadísticamente relevantes. "
      ],
      "metadata": {
        "id": "6uJYpPF1s4Rn"
      }
    },
    {
      "cell_type": "markdown",
      "source": [
        "##**PUNTO 3. Regresores e Intervalos de Confianza**"
      ],
      "metadata": {
        "id": "FnPFwsa0S4zQ"
      }
    },
    {
      "cell_type": "code",
      "source": [
        "!pip install pingouin\n",
        "import pingouin as pg\n"
      ],
      "metadata": {
        "id": "vQ99sBAQ_BZx"
      },
      "execution_count": null,
      "outputs": []
    },
    {
      "cell_type": "code",
      "execution_count": null,
      "metadata": {
        "colab": {
          "base_uri": "https://localhost:8080/",
          "height": 596
        },
        "id": "LheLqckah_DL",
        "outputId": "32739f7d-c52d-43b1-d5cf-a0a66ab29a33"
      },
      "outputs": [
        {
          "output_type": "execute_result",
          "data": {
            "text/plain": [
              "<matplotlib.axes._subplots.AxesSubplot at 0x7f86d65065d0>"
            ]
          },
          "metadata": {},
          "execution_count": 77
        },
        {
          "output_type": "display_data",
          "data": {
            "text/plain": [
              "<Figure size 864x576 with 2 Axes>"
            ],
            "image/png": "[encoded data removed]"
          },
          "metadata": {
            "needs_background": "light"
          }
        }
      ],
      "source": [
        "df_corr=df.corr()\n",
        "plt.figure(figsize=(12,8))\n",
        "sns.heatmap(df_corr, xticklabels=df_corr.columns.values,yticklabels=df_corr.columns.values,annot=True,cmap='Blues')  #cool, hot, viridis, Blues\n"
      ]
    },
    {
      "cell_type": "markdown",
      "source": [
        "###**Regresión Lineal**"
      ],
      "metadata": {
        "id": "zDL7GXgqisLn"
      }
    },
    {
      "cell_type": "code",
      "source": [
        "from sklearn.linear_model import LinearRegression\n",
        "model=LinearRegression()"
      ],
      "metadata": {
        "id": "ryAUQW2AcE62"
      },
      "execution_count": null,
      "outputs": []
    },
    {
      "cell_type": "code",
      "execution_count": null,
      "metadata": {
        "id": "FspPsk3G7ibv"
      },
      "outputs": [],
      "source": [
        "Vars_Indep=df[['INCOMETAXAMT']]\n",
        "Vars_Dep=df['TOTALREGISTERTAX']"
      ]
    },
    {
      "cell_type": "code",
      "source": [
        "model.fit(X=Vars_Indep,y=Vars_Dep)\n",
        "y_predict= model.predict(X=df[['INCOMETAXAMT']])"
      ],
      "metadata": {
        "id": "ot1jgRIsfG8J"
      },
      "execution_count": null,
      "outputs": []
    },
    {
      "cell_type": "code",
      "source": [
        "df.insert(0,\"Predicciones\",y_predict)"
      ],
      "metadata": {
        "id": "oVXRI4BQfxfC"
      },
      "execution_count": null,
      "outputs": []
    },
    {
      "cell_type": "code",
      "source": [
        "sns.scatterplot(x='INCOMETAXAMT',y='Predicciones',data=df)\n",
        "sns.scatterplot(x='INCOMETAXAMT',y='TOTALREGISTERTAX',color='red',data=df)"
      ],
      "metadata": {
        "id": "r1xxxxZ2fo3K",
        "colab": {
          "base_uri": "https://localhost:8080/",
          "height": 296
        },
        "outputId": "3606699b-4cb9-443e-d0c0-b92c4233dc59"
      },
      "execution_count": null,
      "outputs": [
        {
          "output_type": "execute_result",
          "data": {
            "text/plain": [
              "<matplotlib.axes._subplots.AxesSubplot at 0x7f86d662d7d0>"
            ]
          },
          "metadata": {},
          "execution_count": 48
        },
        {
          "output_type": "display_data",
          "data": {
            "text/plain": [
              "<Figure size 432x288 with 1 Axes>"
            ],
            "image/png": "[encoded data removed]"
          },
          "metadata": {
            "needs_background": "light"
          }
        }
      ]
    },
    {
      "cell_type": "code",
      "source": [
        "#Evaluación del modelo\n",
        "coef_Deter=model.score(X=Vars_Indep,y=Vars_Dep)\n",
        "coef_Corr=np.sqrt(coef_Deter)\n",
        "print('Coeficiente de Determinación: ',coef_Deter)\n",
        "print('Coeficiente de Correlación: ',coef_Corr)"
      ],
      "metadata": {
        "id": "SfSYSJgSg-T7",
        "colab": {
          "base_uri": "https://localhost:8080/"
        },
        "outputId": "45c7bba7-02f5-4cad-fddb-9a35aa1b4dd3"
      },
      "execution_count": null,
      "outputs": [
        {
          "output_type": "stream",
          "name": "stdout",
          "text": [
            "Coeficiente de Determinación:  0.7981357471086405\n",
            "Coeficiente de Correlación:  0.893384434109214\n"
          ]
        }
      ]
    },
    {
      "cell_type": "code",
      "source": [
        "pg.linear_regression(df['INCOMETAXAMT'],df['TOTALREGISTERTAX'])"
      ],
      "metadata": {
        "colab": {
          "base_uri": "https://localhost:8080/",
          "height": 112
        },
        "id": "UX1Kd5VH9z0f",
        "outputId": "40b9b664-9efe-4c9e-a831-67732cc10d11"
      },
      "execution_count": null,
      "outputs": [
        {
          "output_type": "execute_result",
          "data": {
            "text/plain": [
              "          names      coef        se           T          pval        r2  \\\n",
              "0     Intercept  9.010744  0.488850   18.432544  8.677331e-76  0.798136   \n",
              "1  INCOMETAXAMT  1.177123  0.001501  784.096796  0.000000e+00  0.798136   \n",
              "\n",
              "     adj_r2  CI[2.5%]  CI[97.5%]  \n",
              "0  0.798134  8.052608   9.968879  \n",
              "1  0.798134  1.174181   1.180066  "
            ],
            "text/html": [
              "\n",
              "  <div id=\"df-f8a80251-02fc-44da-9079-882800905d65\">\n",
              "    <div class=\"colab-df-container\">\n",
              "      <div>\n",
              "<style scoped>\n",
              "    .dataframe tbody tr th:only-of-type {\n",
              "        vertical-align: middle;\n",
              "    }\n",
              "\n",
              "    .dataframe tbody tr th {\n",
              "        vertical-align: top;\n",
              "    }\n",
              "\n",
              "    .dataframe thead th {\n",
              "        text-align: right;\n",
              "    }\n",
              "</style>\n",
              "<table border=\"1\" class=\"dataframe\">\n",
              "  <thead>\n",
              "    <tr style=\"text-align: right;\">\n",
              "      <th></th>\n",
              "      <th>names</th>\n",
              "      <th>coef</th>\n",
              "      <th>se</th>\n",
              "      <th>T</th>\n",
              "      <th>pval</th>\n",
              "      <th>r2</th>\n",
              "      <th>adj_r2</th>\n",
              "      <th>CI[2.5%]</th>\n",
              "      <th>CI[97.5%]</th>\n",
              "    </tr>\n",
              "  </thead>\n",
              "  <tbody>\n",
              "    <tr>\n",
              "      <th>0</th>\n",
              "      <td>Intercept</td>\n",
              "      <td>9.010744</td>\n",
              "      <td>0.488850</td>\n",
              "      <td>18.432544</td>\n",
              "      <td>8.677331e-76</td>\n",
              "      <td>0.798136</td>\n",
              "      <td>0.798134</td>\n",
              "      <td>8.052608</td>\n",
              "      <td>9.968879</td>\n",
              "    </tr>\n",
              "    <tr>\n",
              "      <th>1</th>\n",
              "      <td>INCOMETAXAMT</td>\n",
              "      <td>1.177123</td>\n",
              "      <td>0.001501</td>\n",
              "      <td>784.096796</td>\n",
              "      <td>0.000000e+00</td>\n",
              "      <td>0.798136</td>\n",
              "      <td>0.798134</td>\n",
              "      <td>1.174181</td>\n",
              "      <td>1.180066</td>\n",
              "    </tr>\n",
              "  </tbody>\n",
              "</table>\n",
              "</div>\n",
              "      <button class=\"colab-df-convert\" onclick=\"convertToInteractive('df-f8a80251-02fc-44da-9079-882800905d65')\"\n",
              "              title=\"Convert this dataframe to an interactive table.\"\n",
              "              style=\"display:none;\">\n",
              "        \n",
              "  <svg xmlns=\"http://www.w3.org/2000/svg\" height=\"24px\"viewBox=\"0 0 24 24\"\n",
              "       width=\"24px\">\n",
              "    <path d=\"M0 0h24v24H0V0z\" fill=\"none\"/>\n",
              "    <path d=\"M18.56 5.44l.94 2.06.94-2.06 2.06-.94-2.06-.94-.94-2.06-.94 2.06-2.06.94zm-11 1L8.5 8.5l.94-2.06 2.06-.94-2.06-.94L8.5 2.5l-.94 2.06-2.06.94zm10 10l.94 2.06.94-2.06 2.06-.94-2.06-.94-.94-2.06-.94 2.06-2.06.94z\"/><path d=\"M17.41 7.96l-1.37-1.37c-.4-.4-.92-.59-1.43-.59-.52 0-1.04.2-1.43.59L10.3 9.45l-7.72 7.72c-.78.78-.78 2.05 0 2.83L4 21.41c.39.39.9.59 1.41.59.51 0 1.02-.2 1.41-.59l7.78-7.78 2.81-2.81c.8-.78.8-2.07 0-2.86zM5.41 20L4 18.59l7.72-7.72 1.47 1.35L5.41 20z\"/>\n",
              "  </svg>\n",
              "      </button>\n",
              "      \n",
              "  <style>\n",
              "    .colab-df-container {\n",
              "      display:flex;\n",
              "      flex-wrap:wrap;\n",
              "      gap: 12px;\n",
              "    }\n",
              "\n",
              "    .colab-df-convert {\n",
              "      background-color: #E8F0FE;\n",
              "      border: none;\n",
              "      border-radius: 50%;\n",
              "      cursor: pointer;\n",
              "      display: none;\n",
              "      fill: #1967D2;\n",
              "      height: 32px;\n",
              "      padding: 0 0 0 0;\n",
              "      width: 32px;\n",
              "    }\n",
              "\n",
              "    .colab-df-convert:hover {\n",
              "      background-color: #E2EBFA;\n",
              "      box-shadow: 0px 1px 2px rgba(60, 64, 67, 0.3), 0px 1px 3px 1px rgba(60, 64, 67, 0.15);\n",
              "      fill: #174EA6;\n",
              "    }\n",
              "\n",
              "    [theme=dark] .colab-df-convert {\n",
              "      background-color: #3B4455;\n",
              "      fill: #D2E3FC;\n",
              "    }\n",
              "\n",
              "    [theme=dark] .colab-df-convert:hover {\n",
              "      background-color: #434B5C;\n",
              "      box-shadow: 0px 1px 3px 1px rgba(0, 0, 0, 0.15);\n",
              "      filter: drop-shadow(0px 1px 2px rgba(0, 0, 0, 0.3));\n",
              "      fill: #FFFFFF;\n",
              "    }\n",
              "  </style>\n",
              "\n",
              "      <script>\n",
              "        const buttonEl =\n",
              "          document.querySelector('#df-f8a80251-02fc-44da-9079-882800905d65 button.colab-df-convert');\n",
              "        buttonEl.style.display =\n",
              "          google.colab.kernel.accessAllowed ? 'block' : 'none';\n",
              "\n",
              "        async function convertToInteractive(key) {\n",
              "          const element = document.querySelector('#df-f8a80251-02fc-44da-9079-882800905d65');\n",
              "          const dataTable =\n",
              "            await google.colab.kernel.invokeFunction('convertToInteractive',\n",
              "                                                     [key], {});\n",
              "          if (!dataTable) return;\n",
              "\n",
              "          const docLinkHtml = 'Like what you see? Visit the ' +\n",
              "            '<a target=\"_blank\" href=https://colab.research.google.com/notebooks/data_table.ipynb>data table notebook</a>'\n",
              "            + ' to learn more about interactive tables.';\n",
              "          element.innerHTML = '';\n",
              "          dataTable['output_type'] = 'display_data';\n",
              "          await google.colab.output.renderOutput(dataTable, element);\n",
              "          const docLink = document.createElement('div');\n",
              "          docLink.innerHTML = docLinkHtml;\n",
              "          element.appendChild(docLink);\n",
              "        }\n",
              "      </script>\n",
              "    </div>\n",
              "  </div>\n",
              "  "
            ]
          },
          "metadata": {},
          "execution_count": 76
        }
      ]
    },
    {
      "cell_type": "markdown",
      "source": [
        "###**Regresión Lineal Múltiple**"
      ],
      "metadata": {
        "id": "liA6Ws54ixwA"
      }
    },
    {
      "cell_type": "code",
      "source": [
        "Vars_Indep= df[['TOTALREGISTERTAX', 'INCOMETAXAMT']]\n",
        "Var_Dep= df['VATAMOUNT']\n",
        "\n",
        "#Se define model como la función de regresión lineal\n",
        "from sklearn.linear_model import LinearRegression\n",
        "model= LinearRegression()\n",
        "\n",
        "#Ajustamos el modelo con las variables antes declaradas\n",
        "model.fit(X=Vars_Indep, y=Var_Dep)\n",
        "\n",
        "#Evaluamos la eficiencia del modelo obtenido por medio del coeficiente R Determinación\n",
        "model.score(Vars_Indep,Var_Dep)"
      ],
      "metadata": {
        "id": "WFyUBZ-TjBo5",
        "colab": {
          "base_uri": "https://localhost:8080/"
        },
        "outputId": "4d4b6a22-7076-4b13-e427-62c43d8305f5"
      },
      "execution_count": null,
      "outputs": [
        {
          "output_type": "execute_result",
          "data": {
            "text/plain": [
              "0.8501302350013509"
            ]
          },
          "metadata": {},
          "execution_count": 51
        }
      ]
    },
    {
      "cell_type": "code",
      "source": [
        "#Predecimos los valores del monto de IVA en la factura a partir de las variables: \"TOTALREGISTERTAX\" e \"INCOMETAXAMT\"\n",
        "y_pred= model.predict(X=df[['TOTALREGISTERTAX', 'INCOMETAXAMT']])\n",
        "y_pred"
      ],
      "metadata": {
        "id": "EEiooAwdj8BH",
        "colab": {
          "base_uri": "https://localhost:8080/"
        },
        "outputId": "f54364e6-3507-4347-a6f8-0f5b0d5daa2d"
      },
      "execution_count": null,
      "outputs": [
        {
          "output_type": "execute_result",
          "data": {
            "text/plain": [
              "array([1.06120519, 1.06120519, 1.06120519, ..., 1.06120519, 1.06120519,\n",
              "       1.06120519])"
            ]
          },
          "metadata": {},
          "execution_count": 52
        }
      ]
    },
    {
      "cell_type": "code",
      "source": [
        "#Insertamos la columna de predicciones en el DataFrame\n",
        "df.insert(0, 'Predicciones2', y_pred)\n",
        "df"
      ],
      "metadata": {
        "id": "9zqYAaZlj_Db",
        "colab": {
          "base_uri": "https://localhost:8080/",
          "height": 991
        },
        "outputId": "0bca921e-f42c-48ff-ae0e-4d76cba7e916"
      },
      "execution_count": null,
      "outputs": [
        {
          "output_type": "execute_result",
          "data": {
            "text/plain": [
              "        Predicciones2  Predicciones  CUSTOMERID       FIRSTNAME LASTNAME  \\\n",
              "0            1.061205      9.010744           1     AIDA CORRES   ERNULT   \n",
              "1            1.061205      9.010744           1     AIDA CORRES   ERNULT   \n",
              "2            1.061205      9.010744           1     AIDA CORRES   ERNULT   \n",
              "3            1.061205      9.010744           1     AIDA CORRES   ERNULT   \n",
              "4            1.061205      9.010744           1     AIDA CORRES   ERNULT   \n",
              "...               ...           ...         ...             ...      ...   \n",
              "188670       1.061205      9.010744         207  JORGE RUBIO DE     ALBA   \n",
              "188671       1.061205      9.010744         207  JORGE RUBIO DE     ALBA   \n",
              "188672       1.061205      9.010744         207  JORGE RUBIO DE     ALBA   \n",
              "188673       1.061205      9.010744         207  JORGE RUBIO DE     ALBA   \n",
              "188674       1.061205      9.010744         207  JORGE RUBIO DE     ALBA   \n",
              "\n",
              "                 COMPANYNAME  CURRENCYID          TAXID REGIME  XMLCOUNT  ...  \\\n",
              "0       Una mano para Oaxaca           1  COEA9201018W6      -        41  ...   \n",
              "1       Una mano para Oaxaca           1  COEA9201018W6      -        41  ...   \n",
              "2       Una mano para Oaxaca           1  COEA9201018W6      -        41  ...   \n",
              "3       Una mano para Oaxaca           1  COEA9201018W6      -        41  ...   \n",
              "4       Una mano para Oaxaca           1  COEA9201018W6      -        41  ...   \n",
              "...                      ...         ...            ...    ...       ...  ...   \n",
              "188670   Jorge Rubio De Alba           1  RUAJ640507IB9   26.0        35  ...   \n",
              "188671   Jorge Rubio De Alba           1  RUAJ640507IB9   26.0        35  ...   \n",
              "188672   Jorge Rubio De Alba           1  RUAJ640507IB9   26.0        35  ...   \n",
              "188673   Jorge Rubio De Alba           1  RUAJ640507IB9   26.0        35  ...   \n",
              "188674   Jorge Rubio De Alba           1  RUAJ640507IB9   26.0        35  ...   \n",
              "\n",
              "                               TRANSACTIONID                 CREATEDDATE  \\\n",
              "0       AAA157C5-381F-45C5-9833-7B483A67BDB3  2018-01-13 21:32:32.420000   \n",
              "1       5046298A-8E61-43E9-9888-D2905450D5D4  2018-01-13 21:33:42.830000   \n",
              "2       AAA16D1C-D98C-40A2-AFA5-A277945BBCF6  2018-01-13 21:33:42.870000   \n",
              "3       E66C1F41-9810-4340-9EEE-C17971EFEB04  2018-01-13 21:33:42.980000   \n",
              "4       81c2f4f0-9d7e-485b-8015-cbcb140874c2         2018-01-13 21:33:43   \n",
              "...                                      ...                         ...   \n",
              "188670  6C5CC6E9-4AE0-4F67-BCB1-C3DE9A11169F  2022-01-12 15:52:33.843000   \n",
              "188671  0F62F833-CB98-4CD8-AC46-0D348A4DFC2B  2022-01-12 15:52:34.857000   \n",
              "188672  6B491EAB-DF61-4E09-9C8D-8A9139064B89  2022-01-12 15:52:35.357000   \n",
              "188673  0E53EC4A-B6F5-44EF-A5BE-6E1622CA72D6  2022-01-12 15:52:35.873000   \n",
              "188674  0D87549A-096B-7545-887B-4378AB508B9E  2022-01-12 15:52:36.390000   \n",
              "\n",
              "       USERSTATUS AMOUNTPAID ISPAYMENTPENDING INVOICETYPE_INITIAL  \\\n",
              "0            True       0.00                0                   i   \n",
              "1            True       0.00                0                   e   \n",
              "2            True       0.00                0                   e   \n",
              "3            True       0.00                0                   e   \n",
              "4            True       0.00                0                   i   \n",
              "...           ...        ...              ...                 ...   \n",
              "188670       True    3353.98            False                   e   \n",
              "188671       True       0.00            False                   P   \n",
              "188672       True     490.00            False                   e   \n",
              "188673       True       0.00            False                   P   \n",
              "188674       True  165690.05            False                   n   \n",
              "\n",
              "        PAYMETHODCODE  INVOICETYPE_INITIAL_ORIGINAL XMLIEPSTAX  XMLCURRENCY  \n",
              "0                   0                             0        0.0            0  \n",
              "1                   0                             0        0.0            0  \n",
              "2                   0                             0        0.0            0  \n",
              "3                   0                             0        0.0            0  \n",
              "4                   0                             0        0.0            0  \n",
              "...               ...                           ...        ...          ...  \n",
              "188670            PPD                             i        0.0          MXN  \n",
              "188671              0                             p        0.0          XXX  \n",
              "188672            PUE                             i        0.0          MXN  \n",
              "188673              0                             p        0.0          XXX  \n",
              "188674            PUE                             n        0.0          MXN  \n",
              "\n",
              "[155499 rows x 36 columns]"
            ],
            "text/html": [
              "\n",
              "  <div id=\"df-72480206-eceb-45a6-ac3e-7be2009495f4\">\n",
              "    <div class=\"colab-df-container\">\n",
              "      <div>\n",
              "<style scoped>\n",
              "    .dataframe tbody tr th:only-of-type {\n",
              "        vertical-align: middle;\n",
              "    }\n",
              "\n",
              "    .dataframe tbody tr th {\n",
              "        vertical-align: top;\n",
              "    }\n",
              "\n",
              "    .dataframe thead th {\n",
              "        text-align: right;\n",
              "    }\n",
              "</style>\n",
              "<table border=\"1\" class=\"dataframe\">\n",
              "  <thead>\n",
              "    <tr style=\"text-align: right;\">\n",
              "      <th></th>\n",
              "      <th>Predicciones2</th>\n",
              "      <th>Predicciones</th>\n",
              "      <th>CUSTOMERID</th>\n",
              "      <th>FIRSTNAME</th>\n",
              "      <th>LASTNAME</th>\n",
              "      <th>COMPANYNAME</th>\n",
              "      <th>CURRENCYID</th>\n",
              "      <th>TAXID</th>\n",
              "      <th>REGIME</th>\n",
              "      <th>XMLCOUNT</th>\n",
              "      <th>...</th>\n",
              "      <th>TRANSACTIONID</th>\n",
              "      <th>CREATEDDATE</th>\n",
              "      <th>USERSTATUS</th>\n",
              "      <th>AMOUNTPAID</th>\n",
              "      <th>ISPAYMENTPENDING</th>\n",
              "      <th>INVOICETYPE_INITIAL</th>\n",
              "      <th>PAYMETHODCODE</th>\n",
              "      <th>INVOICETYPE_INITIAL_ORIGINAL</th>\n",
              "      <th>XMLIEPSTAX</th>\n",
              "      <th>XMLCURRENCY</th>\n",
              "    </tr>\n",
              "  </thead>\n",
              "  <tbody>\n",
              "    <tr>\n",
              "      <th>0</th>\n",
              "      <td>1.061205</td>\n",
              "      <td>9.010744</td>\n",
              "      <td>1</td>\n",
              "      <td>AIDA CORRES</td>\n",
              "      <td>ERNULT</td>\n",
              "      <td>Una mano para Oaxaca</td>\n",
              "      <td>1</td>\n",
              "      <td>COEA9201018W6</td>\n",
              "      <td>-</td>\n",
              "      <td>41</td>\n",
              "      <td>...</td>\n",
              "      <td>AAA157C5-381F-45C5-9833-7B483A67BDB3</td>\n",
              "      <td>2018-01-13 21:32:32.420000</td>\n",
              "      <td>True</td>\n",
              "      <td>0.00</td>\n",
              "      <td>0</td>\n",
              "      <td>i</td>\n",
              "      <td>0</td>\n",
              "      <td>0</td>\n",
              "      <td>0.0</td>\n",
              "      <td>0</td>\n",
              "    </tr>\n",
              "    <tr>\n",
              "      <th>1</th>\n",
              "      <td>1.061205</td>\n",
              "      <td>9.010744</td>\n",
              "      <td>1</td>\n",
              "      <td>AIDA CORRES</td>\n",
              "      <td>ERNULT</td>\n",
              "      <td>Una mano para Oaxaca</td>\n",
              "      <td>1</td>\n",
              "      <td>COEA9201018W6</td>\n",
              "      <td>-</td>\n",
              "      <td>41</td>\n",
              "      <td>...</td>\n",
              "      <td>5046298A-8E61-43E9-9888-D2905450D5D4</td>\n",
              "      <td>2018-01-13 21:33:42.830000</td>\n",
              "      <td>True</td>\n",
              "      <td>0.00</td>\n",
              "      <td>0</td>\n",
              "      <td>e</td>\n",
              "      <td>0</td>\n",
              "      <td>0</td>\n",
              "      <td>0.0</td>\n",
              "      <td>0</td>\n",
              "    </tr>\n",
              "    <tr>\n",
              "      <th>2</th>\n",
              "      <td>1.061205</td>\n",
              "      <td>9.010744</td>\n",
              "      <td>1</td>\n",
              "      <td>AIDA CORRES</td>\n",
              "      <td>ERNULT</td>\n",
              "      <td>Una mano para Oaxaca</td>\n",
              "      <td>1</td>\n",
              "      <td>COEA9201018W6</td>\n",
              "      <td>-</td>\n",
              "      <td>41</td>\n",
              "      <td>...</td>\n",
              "      <td>AAA16D1C-D98C-40A2-AFA5-A277945BBCF6</td>\n",
              "      <td>2018-01-13 21:33:42.870000</td>\n",
              "      <td>True</td>\n",
              "      <td>0.00</td>\n",
              "      <td>0</td>\n",
              "      <td>e</td>\n",
              "      <td>0</td>\n",
              "      <td>0</td>\n",
              "      <td>0.0</td>\n",
              "      <td>0</td>\n",
              "    </tr>\n",
              "    <tr>\n",
              "      <th>3</th>\n",
              "      <td>1.061205</td>\n",
              "      <td>9.010744</td>\n",
              "      <td>1</td>\n",
              "      <td>AIDA CORRES</td>\n",
              "      <td>ERNULT</td>\n",
              "      <td>Una mano para Oaxaca</td>\n",
              "      <td>1</td>\n",
              "      <td>COEA9201018W6</td>\n",
              "      <td>-</td>\n",
              "      <td>41</td>\n",
              "      <td>...</td>\n",
              "      <td>E66C1F41-9810-4340-9EEE-C17971EFEB04</td>\n",
              "      <td>2018-01-13 21:33:42.980000</td>\n",
              "      <td>True</td>\n",
              "      <td>0.00</td>\n",
              "      <td>0</td>\n",
              "      <td>e</td>\n",
              "      <td>0</td>\n",
              "      <td>0</td>\n",
              "      <td>0.0</td>\n",
              "      <td>0</td>\n",
              "    </tr>\n",
              "    <tr>\n",
              "      <th>4</th>\n",
              "      <td>1.061205</td>\n",
              "      <td>9.010744</td>\n",
              "      <td>1</td>\n",
              "      <td>AIDA CORRES</td>\n",
              "      <td>ERNULT</td>\n",
              "      <td>Una mano para Oaxaca</td>\n",
              "      <td>1</td>\n",
              "      <td>COEA9201018W6</td>\n",
              "      <td>-</td>\n",
              "      <td>41</td>\n",
              "      <td>...</td>\n",
              "      <td>81c2f4f0-9d7e-485b-8015-cbcb140874c2</td>\n",
              "      <td>2018-01-13 21:33:43</td>\n",
              "      <td>True</td>\n",
              "      <td>0.00</td>\n",
              "      <td>0</td>\n",
              "      <td>i</td>\n",
              "      <td>0</td>\n",
              "      <td>0</td>\n",
              "      <td>0.0</td>\n",
              "      <td>0</td>\n",
              "    </tr>\n",
              "    <tr>\n",
              "      <th>...</th>\n",
              "      <td>...</td>\n",
              "      <td>...</td>\n",
              "      <td>...</td>\n",
              "      <td>...</td>\n",
              "      <td>...</td>\n",
              "      <td>...</td>\n",
              "      <td>...</td>\n",
              "      <td>...</td>\n",
              "      <td>...</td>\n",
              "      <td>...</td>\n",
              "      <td>...</td>\n",
              "      <td>...</td>\n",
              "      <td>...</td>\n",
              "      <td>...</td>\n",
              "      <td>...</td>\n",
              "      <td>...</td>\n",
              "      <td>...</td>\n",
              "      <td>...</td>\n",
              "      <td>...</td>\n",
              "      <td>...</td>\n",
              "      <td>...</td>\n",
              "    </tr>\n",
              "    <tr>\n",
              "      <th>188670</th>\n",
              "      <td>1.061205</td>\n",
              "      <td>9.010744</td>\n",
              "      <td>207</td>\n",
              "      <td>JORGE RUBIO DE</td>\n",
              "      <td>ALBA</td>\n",
              "      <td>Jorge Rubio De Alba</td>\n",
              "      <td>1</td>\n",
              "      <td>RUAJ640507IB9</td>\n",
              "      <td>26.0</td>\n",
              "      <td>35</td>\n",
              "      <td>...</td>\n",
              "      <td>6C5CC6E9-4AE0-4F67-BCB1-C3DE9A11169F</td>\n",
              "      <td>2022-01-12 15:52:33.843000</td>\n",
              "      <td>True</td>\n",
              "      <td>3353.98</td>\n",
              "      <td>False</td>\n",
              "      <td>e</td>\n",
              "      <td>PPD</td>\n",
              "      <td>i</td>\n",
              "      <td>0.0</td>\n",
              "      <td>MXN</td>\n",
              "    </tr>\n",
              "    <tr>\n",
              "      <th>188671</th>\n",
              "      <td>1.061205</td>\n",
              "      <td>9.010744</td>\n",
              "      <td>207</td>\n",
              "      <td>JORGE RUBIO DE</td>\n",
              "      <td>ALBA</td>\n",
              "      <td>Jorge Rubio De Alba</td>\n",
              "      <td>1</td>\n",
              "      <td>RUAJ640507IB9</td>\n",
              "      <td>26.0</td>\n",
              "      <td>35</td>\n",
              "      <td>...</td>\n",
              "      <td>0F62F833-CB98-4CD8-AC46-0D348A4DFC2B</td>\n",
              "      <td>2022-01-12 15:52:34.857000</td>\n",
              "      <td>True</td>\n",
              "      <td>0.00</td>\n",
              "      <td>False</td>\n",
              "      <td>P</td>\n",
              "      <td>0</td>\n",
              "      <td>p</td>\n",
              "      <td>0.0</td>\n",
              "      <td>XXX</td>\n",
              "    </tr>\n",
              "    <tr>\n",
              "      <th>188672</th>\n",
              "      <td>1.061205</td>\n",
              "      <td>9.010744</td>\n",
              "      <td>207</td>\n",
              "      <td>JORGE RUBIO DE</td>\n",
              "      <td>ALBA</td>\n",
              "      <td>Jorge Rubio De Alba</td>\n",
              "      <td>1</td>\n",
              "      <td>RUAJ640507IB9</td>\n",
              "      <td>26.0</td>\n",
              "      <td>35</td>\n",
              "      <td>...</td>\n",
              "      <td>6B491EAB-DF61-4E09-9C8D-8A9139064B89</td>\n",
              "      <td>2022-01-12 15:52:35.357000</td>\n",
              "      <td>True</td>\n",
              "      <td>490.00</td>\n",
              "      <td>False</td>\n",
              "      <td>e</td>\n",
              "      <td>PUE</td>\n",
              "      <td>i</td>\n",
              "      <td>0.0</td>\n",
              "      <td>MXN</td>\n",
              "    </tr>\n",
              "    <tr>\n",
              "      <th>188673</th>\n",
              "      <td>1.061205</td>\n",
              "      <td>9.010744</td>\n",
              "      <td>207</td>\n",
              "      <td>JORGE RUBIO DE</td>\n",
              "      <td>ALBA</td>\n",
              "      <td>Jorge Rubio De Alba</td>\n",
              "      <td>1</td>\n",
              "      <td>RUAJ640507IB9</td>\n",
              "      <td>26.0</td>\n",
              "      <td>35</td>\n",
              "      <td>...</td>\n",
              "      <td>0E53EC4A-B6F5-44EF-A5BE-6E1622CA72D6</td>\n",
              "      <td>2022-01-12 15:52:35.873000</td>\n",
              "      <td>True</td>\n",
              "      <td>0.00</td>\n",
              "      <td>False</td>\n",
              "      <td>P</td>\n",
              "      <td>0</td>\n",
              "      <td>p</td>\n",
              "      <td>0.0</td>\n",
              "      <td>XXX</td>\n",
              "    </tr>\n",
              "    <tr>\n",
              "      <th>188674</th>\n",
              "      <td>1.061205</td>\n",
              "      <td>9.010744</td>\n",
              "      <td>207</td>\n",
              "      <td>JORGE RUBIO DE</td>\n",
              "      <td>ALBA</td>\n",
              "      <td>Jorge Rubio De Alba</td>\n",
              "      <td>1</td>\n",
              "      <td>RUAJ640507IB9</td>\n",
              "      <td>26.0</td>\n",
              "      <td>35</td>\n",
              "      <td>...</td>\n",
              "      <td>0D87549A-096B-7545-887B-4378AB508B9E</td>\n",
              "      <td>2022-01-12 15:52:36.390000</td>\n",
              "      <td>True</td>\n",
              "      <td>165690.05</td>\n",
              "      <td>False</td>\n",
              "      <td>n</td>\n",
              "      <td>PUE</td>\n",
              "      <td>n</td>\n",
              "      <td>0.0</td>\n",
              "      <td>MXN</td>\n",
              "    </tr>\n",
              "  </tbody>\n",
              "</table>\n",
              "<p>155499 rows × 36 columns</p>\n",
              "</div>\n",
              "      <button class=\"colab-df-convert\" onclick=\"convertToInteractive('df-72480206-eceb-45a6-ac3e-7be2009495f4')\"\n",
              "              title=\"Convert this dataframe to an interactive table.\"\n",
              "              style=\"display:none;\">\n",
              "        \n",
              "  <svg xmlns=\"http://www.w3.org/2000/svg\" height=\"24px\"viewBox=\"0 0 24 24\"\n",
              "       width=\"24px\">\n",
              "    <path d=\"M0 0h24v24H0V0z\" fill=\"none\"/>\n",
              "    <path d=\"M18.56 5.44l.94 2.06.94-2.06 2.06-.94-2.06-.94-.94-2.06-.94 2.06-2.06.94zm-11 1L8.5 8.5l.94-2.06 2.06-.94-2.06-.94L8.5 2.5l-.94 2.06-2.06.94zm10 10l.94 2.06.94-2.06 2.06-.94-2.06-.94-.94-2.06-.94 2.06-2.06.94z\"/><path d=\"M17.41 7.96l-1.37-1.37c-.4-.4-.92-.59-1.43-.59-.52 0-1.04.2-1.43.59L10.3 9.45l-7.72 7.72c-.78.78-.78 2.05 0 2.83L4 21.41c.39.39.9.59 1.41.59.51 0 1.02-.2 1.41-.59l7.78-7.78 2.81-2.81c.8-.78.8-2.07 0-2.86zM5.41 20L4 18.59l7.72-7.72 1.47 1.35L5.41 20z\"/>\n",
              "  </svg>\n",
              "      </button>\n",
              "      \n",
              "  <style>\n",
              "    .colab-df-container {\n",
              "      display:flex;\n",
              "      flex-wrap:wrap;\n",
              "      gap: 12px;\n",
              "    }\n",
              "\n",
              "    .colab-df-convert {\n",
              "      background-color: #E8F0FE;\n",
              "      border: none;\n",
              "      border-radius: 50%;\n",
              "      cursor: pointer;\n",
              "      display: none;\n",
              "      fill: #1967D2;\n",
              "      height: 32px;\n",
              "      padding: 0 0 0 0;\n",
              "      width: 32px;\n",
              "    }\n",
              "\n",
              "    .colab-df-convert:hover {\n",
              "      background-color: #E2EBFA;\n",
              "      box-shadow: 0px 1px 2px rgba(60, 64, 67, 0.3), 0px 1px 3px 1px rgba(60, 64, 67, 0.15);\n",
              "      fill: #174EA6;\n",
              "    }\n",
              "\n",
              "    [theme=dark] .colab-df-convert {\n",
              "      background-color: #3B4455;\n",
              "      fill: #D2E3FC;\n",
              "    }\n",
              "\n",
              "    [theme=dark] .colab-df-convert:hover {\n",
              "      background-color: #434B5C;\n",
              "      box-shadow: 0px 1px 3px 1px rgba(0, 0, 0, 0.15);\n",
              "      filter: drop-shadow(0px 1px 2px rgba(0, 0, 0, 0.3));\n",
              "      fill: #FFFFFF;\n",
              "    }\n",
              "  </style>\n",
              "\n",
              "      <script>\n",
              "        const buttonEl =\n",
              "          document.querySelector('#df-72480206-eceb-45a6-ac3e-7be2009495f4 button.colab-df-convert');\n",
              "        buttonEl.style.display =\n",
              "          google.colab.kernel.accessAllowed ? 'block' : 'none';\n",
              "\n",
              "        async function convertToInteractive(key) {\n",
              "          const element = document.querySelector('#df-72480206-eceb-45a6-ac3e-7be2009495f4');\n",
              "          const dataTable =\n",
              "            await google.colab.kernel.invokeFunction('convertToInteractive',\n",
              "                                                     [key], {});\n",
              "          if (!dataTable) return;\n",
              "\n",
              "          const docLinkHtml = 'Like what you see? Visit the ' +\n",
              "            '<a target=\"_blank\" href=https://colab.research.google.com/notebooks/data_table.ipynb>data table notebook</a>'\n",
              "            + ' to learn more about interactive tables.';\n",
              "          element.innerHTML = '';\n",
              "          dataTable['output_type'] = 'display_data';\n",
              "          await google.colab.output.renderOutput(dataTable, element);\n",
              "          const docLink = document.createElement('div');\n",
              "          docLink.innerHTML = docLinkHtml;\n",
              "          element.appendChild(docLink);\n",
              "        }\n",
              "      </script>\n",
              "    </div>\n",
              "  </div>\n",
              "  "
            ]
          },
          "metadata": {},
          "execution_count": 53
        }
      ]
    },
    {
      "cell_type": "code",
      "source": [
        "#Visualizamos la gráfica comparativa entre el total real y el total predecido\n",
        "\n",
        "sns.scatterplot(x='TOTALREGISTERTAX', y='VATAMOUNT', color=\"blue\", data=df)\n",
        "sns.scatterplot(x='TOTALREGISTERTAX', y='Predicciones2', color=\"red\", data=df)\n",
        "#sns.lineplot(x='TOTALREGISTERTAX', y='Predicciones2', color=\"green\", data=df)"
      ],
      "metadata": {
        "id": "EsPwW-bdkC9z",
        "colab": {
          "base_uri": "https://localhost:8080/",
          "height": 296
        },
        "outputId": "fa81bcca-048d-4c42-f41b-012c8e30b7fd"
      },
      "execution_count": null,
      "outputs": [
        {
          "output_type": "execute_result",
          "data": {
            "text/plain": [
              "<matplotlib.axes._subplots.AxesSubplot at 0x7f86d663c950>"
            ]
          },
          "metadata": {},
          "execution_count": 54
        },
        {
          "output_type": "display_data",
          "data": {
            "text/plain": [
              "<Figure size 432x288 with 1 Axes>"
            ],
            "image/png": "[encoded data removed]"
          },
          "metadata": {
            "needs_background": "light"
          }
        }
      ]
    },
    {
      "cell_type": "code",
      "source": [
        "#Corroboramos cual es el coeficiente de Determinación de nuestro modelo\n",
        "coef_Deter=model.score(X=Vars_Indep, y=Var_Dep)\n",
        "print('coeficiente de Determinación',coef_Deter)\n",
        "\n",
        "#Corroboramos cual es el coeficiente de Correlación de nuestro modelo\n",
        "coef_Correl=np.sqrt(coef_Deter)\n",
        "print('coeficiente de Correlación',coef_Correl)"
      ],
      "metadata": {
        "id": "O_iYFCPwl7fF",
        "colab": {
          "base_uri": "https://localhost:8080/"
        },
        "outputId": "d371cc07-3a13-4ecf-d1ad-814b38303627"
      },
      "execution_count": null,
      "outputs": [
        {
          "output_type": "stream",
          "name": "stdout",
          "text": [
            "coeficiente de Determinación 0.8501302350013509\n",
            "coeficiente de Correlación 0.9220250728702288\n"
          ]
        }
      ]
    },
    {
      "cell_type": "code",
      "source": [
        "pg.linear_regression(df[['TOTALREGISTERTAX', 'INCOMETAXAMT']],df['VATAMOUNT'])"
      ],
      "metadata": {
        "colab": {
          "base_uri": "https://localhost:8080/",
          "height": 187
        },
        "id": "8RXoNwi0ACUD",
        "outputId": "6eaf28c5-d000-4a62-e61d-54b7bda6a6a8"
      },
      "execution_count": null,
      "outputs": [
        {
          "output_type": "execute_result",
          "data": {
            "text/plain": [
              "              names      coef        se           T          pval       r2  \\\n",
              "0         Intercept  1.061205  0.182859    5.803399  6.510946e-09  0.85013   \n",
              "1  TOTALREGISTERTAX  0.810092  0.000948  854.924824  0.000000e+00  0.85013   \n",
              "2      INCOMETAXAMT -0.735496  0.001249 -589.101249  0.000000e+00  0.85013   \n",
              "\n",
              "     adj_r2  CI[2.5%]  CI[97.5%]  \n",
              "0  0.850128  0.702805   1.419606  \n",
              "1  0.850128  0.808235   0.811950  \n",
              "2  0.850128 -0.737943  -0.733049  "
            ],
            "text/html": [
              "\n",
              "  <div id=\"df-bb871854-00db-420f-9c8e-2f89ef5d9296\">\n",
              "    <div class=\"colab-df-container\">\n",
              "      <div>\n",
              "<style scoped>\n",
              "    .dataframe tbody tr th:only-of-type {\n",
              "        vertical-align: middle;\n",
              "    }\n",
              "\n",
              "    .dataframe tbody tr th {\n",
              "        vertical-align: top;\n",
              "    }\n",
              "\n",
              "    .dataframe thead th {\n",
              "        text-align: right;\n",
              "    }\n",
              "</style>\n",
              "<table border=\"1\" class=\"dataframe\">\n",
              "  <thead>\n",
              "    <tr style=\"text-align: right;\">\n",
              "      <th></th>\n",
              "      <th>names</th>\n",
              "      <th>coef</th>\n",
              "      <th>se</th>\n",
              "      <th>T</th>\n",
              "      <th>pval</th>\n",
              "      <th>r2</th>\n",
              "      <th>adj_r2</th>\n",
              "      <th>CI[2.5%]</th>\n",
              "      <th>CI[97.5%]</th>\n",
              "    </tr>\n",
              "  </thead>\n",
              "  <tbody>\n",
              "    <tr>\n",
              "      <th>0</th>\n",
              "      <td>Intercept</td>\n",
              "      <td>1.061205</td>\n",
              "      <td>0.182859</td>\n",
              "      <td>5.803399</td>\n",
              "      <td>6.510946e-09</td>\n",
              "      <td>0.85013</td>\n",
              "      <td>0.850128</td>\n",
              "      <td>0.702805</td>\n",
              "      <td>1.419606</td>\n",
              "    </tr>\n",
              "    <tr>\n",
              "      <th>1</th>\n",
              "      <td>TOTALREGISTERTAX</td>\n",
              "      <td>0.810092</td>\n",
              "      <td>0.000948</td>\n",
              "      <td>854.924824</td>\n",
              "      <td>0.000000e+00</td>\n",
              "      <td>0.85013</td>\n",
              "      <td>0.850128</td>\n",
              "      <td>0.808235</td>\n",
              "      <td>0.811950</td>\n",
              "    </tr>\n",
              "    <tr>\n",
              "      <th>2</th>\n",
              "      <td>INCOMETAXAMT</td>\n",
              "      <td>-0.735496</td>\n",
              "      <td>0.001249</td>\n",
              "      <td>-589.101249</td>\n",
              "      <td>0.000000e+00</td>\n",
              "      <td>0.85013</td>\n",
              "      <td>0.850128</td>\n",
              "      <td>-0.737943</td>\n",
              "      <td>-0.733049</td>\n",
              "    </tr>\n",
              "  </tbody>\n",
              "</table>\n",
              "</div>\n",
              "      <button class=\"colab-df-convert\" onclick=\"convertToInteractive('df-bb871854-00db-420f-9c8e-2f89ef5d9296')\"\n",
              "              title=\"Convert this dataframe to an interactive table.\"\n",
              "              style=\"display:none;\">\n",
              "        \n",
              "  <svg xmlns=\"http://www.w3.org/2000/svg\" height=\"24px\"viewBox=\"0 0 24 24\"\n",
              "       width=\"24px\">\n",
              "    <path d=\"M0 0h24v24H0V0z\" fill=\"none\"/>\n",
              "    <path d=\"M18.56 5.44l.94 2.06.94-2.06 2.06-.94-2.06-.94-.94-2.06-.94 2.06-2.06.94zm-11 1L8.5 8.5l.94-2.06 2.06-.94-2.06-.94L8.5 2.5l-.94 2.06-2.06.94zm10 10l.94 2.06.94-2.06 2.06-.94-2.06-.94-.94-2.06-.94 2.06-2.06.94z\"/><path d=\"M17.41 7.96l-1.37-1.37c-.4-.4-.92-.59-1.43-.59-.52 0-1.04.2-1.43.59L10.3 9.45l-7.72 7.72c-.78.78-.78 2.05 0 2.83L4 21.41c.39.39.9.59 1.41.59.51 0 1.02-.2 1.41-.59l7.78-7.78 2.81-2.81c.8-.78.8-2.07 0-2.86zM5.41 20L4 18.59l7.72-7.72 1.47 1.35L5.41 20z\"/>\n",
              "  </svg>\n",
              "      </button>\n",
              "      \n",
              "  <style>\n",
              "    .colab-df-container {\n",
              "      display:flex;\n",
              "      flex-wrap:wrap;\n",
              "      gap: 12px;\n",
              "    }\n",
              "\n",
              "    .colab-df-convert {\n",
              "      background-color: #E8F0FE;\n",
              "      border: none;\n",
              "      border-radius: 50%;\n",
              "      cursor: pointer;\n",
              "      display: none;\n",
              "      fill: #1967D2;\n",
              "      height: 32px;\n",
              "      padding: 0 0 0 0;\n",
              "      width: 32px;\n",
              "    }\n",
              "\n",
              "    .colab-df-convert:hover {\n",
              "      background-color: #E2EBFA;\n",
              "      box-shadow: 0px 1px 2px rgba(60, 64, 67, 0.3), 0px 1px 3px 1px rgba(60, 64, 67, 0.15);\n",
              "      fill: #174EA6;\n",
              "    }\n",
              "\n",
              "    [theme=dark] .colab-df-convert {\n",
              "      background-color: #3B4455;\n",
              "      fill: #D2E3FC;\n",
              "    }\n",
              "\n",
              "    [theme=dark] .colab-df-convert:hover {\n",
              "      background-color: #434B5C;\n",
              "      box-shadow: 0px 1px 3px 1px rgba(0, 0, 0, 0.15);\n",
              "      filter: drop-shadow(0px 1px 2px rgba(0, 0, 0, 0.3));\n",
              "      fill: #FFFFFF;\n",
              "    }\n",
              "  </style>\n",
              "\n",
              "      <script>\n",
              "        const buttonEl =\n",
              "          document.querySelector('#df-bb871854-00db-420f-9c8e-2f89ef5d9296 button.colab-df-convert');\n",
              "        buttonEl.style.display =\n",
              "          google.colab.kernel.accessAllowed ? 'block' : 'none';\n",
              "\n",
              "        async function convertToInteractive(key) {\n",
              "          const element = document.querySelector('#df-bb871854-00db-420f-9c8e-2f89ef5d9296');\n",
              "          const dataTable =\n",
              "            await google.colab.kernel.invokeFunction('convertToInteractive',\n",
              "                                                     [key], {});\n",
              "          if (!dataTable) return;\n",
              "\n",
              "          const docLinkHtml = 'Like what you see? Visit the ' +\n",
              "            '<a target=\"_blank\" href=https://colab.research.google.com/notebooks/data_table.ipynb>data table notebook</a>'\n",
              "            + ' to learn more about interactive tables.';\n",
              "          element.innerHTML = '';\n",
              "          dataTable['output_type'] = 'display_data';\n",
              "          await google.colab.output.renderOutput(dataTable, element);\n",
              "          const docLink = document.createElement('div');\n",
              "          docLink.innerHTML = docLinkHtml;\n",
              "          element.appendChild(docLink);\n",
              "        }\n",
              "      </script>\n",
              "    </div>\n",
              "  </div>\n",
              "  "
            ]
          },
          "metadata": {},
          "execution_count": 79
        }
      ]
    },
    {
      "cell_type": "markdown",
      "source": [
        "###**Regresiones No lineal**"
      ],
      "metadata": {
        "id": "XLV14kxrmDFH"
      }
    },
    {
      "cell_type": "code",
      "source": [
        "df.to_csv('df_regresiones.csv')"
      ],
      "metadata": {
        "id": "rd594lCLrlDF"
      },
      "execution_count": null,
      "outputs": []
    },
    {
      "cell_type": "code",
      "source": [
        "#Instalamos libreria del predictor al entorno\n",
        "!pip install lazypredict"
      ],
      "metadata": {
        "colab": {
          "base_uri": "https://localhost:8080/"
        },
        "id": "LQw1Bs3U4OGn",
        "outputId": "96cc4639-f6b5-421c-a05e-493c66f1f8c2"
      },
      "execution_count": null,
      "outputs": [
        {
          "output_type": "stream",
          "name": "stdout",
          "text": [
            "Looking in indexes: https://pypi.org/simple, https://us-python.pkg.dev/colab-wheels/public/simple/\n",
            "Collecting lazypredict\n",
            "  Downloading lazypredict-0.2.12-py2.py3-none-any.whl (12 kB)\n",
            "Requirement already satisfied: pandas in /usr/local/lib/python3.7/dist-packages (from lazypredict) (1.3.5)\n",
            "Requirement already satisfied: tqdm in /usr/local/lib/python3.7/dist-packages (from lazypredict) (4.64.1)\n",
            "Requirement already satisfied: click in /usr/local/lib/python3.7/dist-packages (from lazypredict) (7.1.2)\n",
            "Requirement already satisfied: lightgbm in /usr/local/lib/python3.7/dist-packages (from lazypredict) (2.2.3)\n",
            "Requirement already satisfied: scikit-learn in /usr/local/lib/python3.7/dist-packages (from lazypredict) (1.0.2)\n",
            "Requirement already satisfied: xgboost in /usr/local/lib/python3.7/dist-packages (from lazypredict) (0.90)\n",
            "Requirement already satisfied: joblib in /usr/local/lib/python3.7/dist-packages (from lazypredict) (1.2.0)\n",
            "Requirement already satisfied: scipy in /usr/local/lib/python3.7/dist-packages (from lightgbm->lazypredict) (1.7.3)\n",
            "Requirement already satisfied: numpy in /usr/local/lib/python3.7/dist-packages (from lightgbm->lazypredict) (1.21.6)\n",
            "Requirement already satisfied: pytz>=2017.3 in /usr/local/lib/python3.7/dist-packages (from pandas->lazypredict) (2022.5)\n",
            "Requirement already satisfied: python-dateutil>=2.7.3 in /usr/local/lib/python3.7/dist-packages (from pandas->lazypredict) (2.8.2)\n",
            "Requirement already satisfied: six>=1.5 in /usr/local/lib/python3.7/dist-packages (from python-dateutil>=2.7.3->pandas->lazypredict) (1.15.0)\n",
            "Requirement already satisfied: threadpoolctl>=2.0.0 in /usr/local/lib/python3.7/dist-packages (from scikit-learn->lazypredict) (3.1.0)\n",
            "Installing collected packages: lazypredict\n",
            "Successfully installed lazypredict-0.2.12\n"
          ]
        }
      ]
    },
    {
      "cell_type": "code",
      "source": [
        "#from scipy.optimize import curve_fit\n",
        "from sklearn.model_selection import train_test_split\n",
        "from sklearn.svm import LinearSVR\n",
        "from sklearn.metrics import mean_squared_error\n",
        "from sklearn.linear_model import RANSACRegressor\n"
      ],
      "metadata": {
        "id": "NaYzQYRewxZa"
      },
      "execution_count": null,
      "outputs": []
    },
    {
      "cell_type": "code",
      "source": [
        "Vars_Indep= df[['AMOUNTPAID']]\n",
        "Var_Dep= df['VATAMOUNT']\n",
        "\n",
        "X= Vars_Indep\n",
        "y= Var_Dep"
      ],
      "metadata": {
        "id": "6fKPnskEwWCA"
      },
      "execution_count": null,
      "outputs": []
    },
    {
      "cell_type": "code",
      "source": [
        "#Dividimos el conjunto de datos en la parte de entrenamiento y prueba:\n",
        "X_train, X_test, y_train, y_test = train_test_split(X, y, test_size=0.20, random_state =None)"
      ],
      "metadata": {
        "id": "qSlTKprW39Py"
      },
      "execution_count": null,
      "outputs": []
    },
    {
      "cell_type": "code",
      "source": [
        "#Ajustamos el modelo con los parámetros por default\n",
        "L_SVR = LinearSVR()\n",
        "L_SVR.fit(X_train, y_train)\n",
        "\n",
        "#Obtenemos datos predecidos\n",
        "ypred = L_SVR.predict(X_test)\n",
        "ypred"
      ],
      "metadata": {
        "colab": {
          "base_uri": "https://localhost:8080/"
        },
        "id": "Yy1A6JUP3pRT",
        "outputId": "08a3c82d-b75a-4b6e-af1d-71d312d7c68c"
      },
      "execution_count": null,
      "outputs": [
        {
          "output_type": "stream",
          "name": "stderr",
          "text": [
            "/usr/local/lib/python3.7/dist-packages/sklearn/svm/_base.py:1208: ConvergenceWarning: Liblinear failed to converge, increase the number of iterations.\n",
            "  ConvergenceWarning,\n"
          ]
        },
        {
          "output_type": "execute_result",
          "data": {
            "text/plain": [
              "array([-2.71050543e-20, -5.70980280e-12, -2.76426483e-11, ...,\n",
              "       -1.47959672e-09, -3.35988505e-10, -2.71050543e-20])"
            ]
          },
          "metadata": {},
          "execution_count": 61
        }
      ]
    },
    {
      "cell_type": "code",
      "source": [
        "#Obtenemos el error cuadrático medio \n",
        "mse = mean_squared_error(y_test,ypred)\n",
        "print(\"MSE: %.2f\" % mse)"
      ],
      "metadata": {
        "colab": {
          "base_uri": "https://localhost:8080/"
        },
        "id": "1GUT2-rW3xct",
        "outputId": "9a571fbd-b6cd-4749-f0ff-376c05a585ed"
      },
      "execution_count": null,
      "outputs": [
        {
          "output_type": "stream",
          "name": "stdout",
          "text": [
            "MSE: 49191.45\n"
          ]
        }
      ]
    },
    {
      "cell_type": "code",
      "source": [
        "#Obtenemos la gráfica de la predicción\n",
        "x_ax = range(len(y_test))\n",
        "plt.scatter(x_ax, y_test, s=5, color=\"blue\", label=\"original\")\n",
        "plt.plot(x_ax, ypred, lw=0.8, color=\"red\", label=\"predicted\")\n",
        "plt.legend()\n",
        "plt.show()"
      ],
      "metadata": {
        "colab": {
          "base_uri": "https://localhost:8080/",
          "height": 265
        },
        "id": "e-_DqscS4u1M",
        "outputId": "cc84a1f7-2e09-4d0e-dbf7-3376b8328f82"
      },
      "execution_count": null,
      "outputs": [
        {
          "output_type": "display_data",
          "data": {
            "text/plain": [
              "<Figure size 432x288 with 1 Axes>"
            ],
            "image/png": "[encoded data removed]"
          },
          "metadata": {
            "needs_background": "light"
          }
        }
      ]
    },
    {
      "cell_type": "code",
      "source": [
        "#Calculamos el coeficiente de determinación del modelo\n",
        "from sklearn.metrics import r2_score\n",
        "R2 = r2_score(y_test, ypred) \n",
        "R2"
      ],
      "metadata": {
        "colab": {
          "base_uri": "https://localhost:8080/"
        },
        "id": "tfL6kk454ysl",
        "outputId": "b813f076-8650-4d00-ea57-898599b39d06"
      },
      "execution_count": null,
      "outputs": [
        {
          "output_type": "execute_result",
          "data": {
            "text/plain": [
              "-0.00268491844237273"
            ]
          },
          "metadata": {},
          "execution_count": 64
        }
      ]
    },
    {
      "cell_type": "markdown",
      "source": [
        "####**2do Modelo de Regresión No Lineal**"
      ],
      "metadata": {
        "id": "8J9YovyNUCxJ"
      }
    },
    {
      "cell_type": "code",
      "source": [
        "#Ajustamos el modelo con los parámetros por default\n",
        "RANSACRegressor = RANSACRegressor()\n",
        "RANSACRegressor.fit(X_train, y_train)\n",
        "\n",
        "#Obtenemos datos predecidos\n",
        "ypred2 = RANSACRegressor.predict(X_test)\n",
        "ypred2\n",
        "\n"
      ],
      "metadata": {
        "colab": {
          "base_uri": "https://localhost:8080/"
        },
        "id": "qgBjWwGrT9CN",
        "outputId": "321437fb-f38d-411e-c09a-95c2afb1cda1"
      },
      "execution_count": null,
      "outputs": [
        {
          "output_type": "execute_result",
          "data": {
            "text/plain": [
              "array([0., 0., 0., ..., 0., 0., 0.])"
            ]
          },
          "metadata": {},
          "execution_count": 65
        }
      ]
    },
    {
      "cell_type": "code",
      "source": [
        "#Obtenemos el error cuadrático medio \n",
        "mse = mean_squared_error(y_test,ypred2)\n",
        "print(\"MSE: %.2f\" % mse)\n"
      ],
      "metadata": {
        "colab": {
          "base_uri": "https://localhost:8080/"
        },
        "id": "BBrFI52hUws8",
        "outputId": "fa9a2265-af7e-4a41-9051-ca5382d981df"
      },
      "execution_count": null,
      "outputs": [
        {
          "output_type": "stream",
          "name": "stdout",
          "text": [
            "MSE: 49191.45\n"
          ]
        }
      ]
    },
    {
      "cell_type": "code",
      "source": [
        "#Obtenemos la gráfica de la predicción\n",
        "x_ax = range(len(y_test))\n",
        "plt.scatter(x_ax, y_test, s=5, color=\"blue\", label=\"original\")\n",
        "plt.plot(x_ax, ypred2, lw=0.8, color=\"red\", label=\"predicted\")\n",
        "plt.legend()\n",
        "plt.show()"
      ],
      "metadata": {
        "colab": {
          "base_uri": "https://localhost:8080/",
          "height": 265
        },
        "id": "2VPikqnQUz5J",
        "outputId": "cdb526d2-e7a8-4764-cb23-f4af199a3b17"
      },
      "execution_count": null,
      "outputs": [
        {
          "output_type": "display_data",
          "data": {
            "text/plain": [
              "<Figure size 432x288 with 1 Axes>"
            ],
            "image/png": "[encoded data removed]"
          },
          "metadata": {
            "needs_background": "light"
          }
        }
      ]
    },
    {
      "cell_type": "code",
      "source": [
        "#Calculamos el coeficiente de determinación del modelo\n",
        "from sklearn.metrics import r2_score\n",
        "R2 = r2_score(y_test, ypred2) \n",
        "R2"
      ],
      "metadata": {
        "colab": {
          "base_uri": "https://localhost:8080/"
        },
        "id": "naOEa3TvVBTn",
        "outputId": "1b5ca7cb-a2c7-443b-c3f2-b6deebce6bfa"
      },
      "execution_count": null,
      "outputs": [
        {
          "output_type": "execute_result",
          "data": {
            "text/plain": [
              "-0.0026849184402151227"
            ]
          },
          "metadata": {},
          "execution_count": 68
        }
      ]
    },
    {
      "cell_type": "code",
      "source": [
        "pg.linear_regression(df['AMOUNTPAID'],df['VATAMOUNT'])"
      ],
      "metadata": {
        "colab": {
          "base_uri": "https://localhost:8080/",
          "height": 211
        },
        "id": "U18MU3IUAd_G",
        "outputId": "584499b5-412f-4fd2-a17a-0fce33a0b9d1"
      },
      "execution_count": null,
      "outputs": [
        {
          "output_type": "execute_result",
          "data": {
            "text/plain": [
              "        names          coef            se             T      pval  \\\n",
              "0   Intercept  1.110230e+01  5.630750e-19  1.971727e+19  0.000000   \n",
              "1  AMOUNTPAID -4.874808e-10  1.004967e-08 -4.850715e-02  0.961312   \n",
              "\n",
              "             r2    adj_r2      CI[2.5%]     CI[97.5%]  \n",
              "0  1.513165e-08 -0.000006  1.110230e+01  1.110230e+01  \n",
              "1  1.513165e-08 -0.000006 -2.018463e-08  1.920966e-08  "
            ],
            "text/html": [
              "\n",
              "  <div id=\"df-41f7edc4-11bf-489a-aff8-af073df0cd61\">\n",
              "    <div class=\"colab-df-container\">\n",
              "      <div>\n",
              "<style scoped>\n",
              "    .dataframe tbody tr th:only-of-type {\n",
              "        vertical-align: middle;\n",
              "    }\n",
              "\n",
              "    .dataframe tbody tr th {\n",
              "        vertical-align: top;\n",
              "    }\n",
              "\n",
              "    .dataframe thead th {\n",
              "        text-align: right;\n",
              "    }\n",
              "</style>\n",
              "<table border=\"1\" class=\"dataframe\">\n",
              "  <thead>\n",
              "    <tr style=\"text-align: right;\">\n",
              "      <th></th>\n",
              "      <th>names</th>\n",
              "      <th>coef</th>\n",
              "      <th>se</th>\n",
              "      <th>T</th>\n",
              "      <th>pval</th>\n",
              "      <th>r2</th>\n",
              "      <th>adj_r2</th>\n",
              "      <th>CI[2.5%]</th>\n",
              "      <th>CI[97.5%]</th>\n",
              "    </tr>\n",
              "  </thead>\n",
              "  <tbody>\n",
              "    <tr>\n",
              "      <th>0</th>\n",
              "      <td>Intercept</td>\n",
              "      <td>1.110230e+01</td>\n",
              "      <td>5.630750e-19</td>\n",
              "      <td>1.971727e+19</td>\n",
              "      <td>0.000000</td>\n",
              "      <td>1.513165e-08</td>\n",
              "      <td>-0.000006</td>\n",
              "      <td>1.110230e+01</td>\n",
              "      <td>1.110230e+01</td>\n",
              "    </tr>\n",
              "    <tr>\n",
              "      <th>1</th>\n",
              "      <td>AMOUNTPAID</td>\n",
              "      <td>-4.874808e-10</td>\n",
              "      <td>1.004967e-08</td>\n",
              "      <td>-4.850715e-02</td>\n",
              "      <td>0.961312</td>\n",
              "      <td>1.513165e-08</td>\n",
              "      <td>-0.000006</td>\n",
              "      <td>-2.018463e-08</td>\n",
              "      <td>1.920966e-08</td>\n",
              "    </tr>\n",
              "  </tbody>\n",
              "</table>\n",
              "</div>\n",
              "      <button class=\"colab-df-convert\" onclick=\"convertToInteractive('df-41f7edc4-11bf-489a-aff8-af073df0cd61')\"\n",
              "              title=\"Convert this dataframe to an interactive table.\"\n",
              "              style=\"display:none;\">\n",
              "        \n",
              "  <svg xmlns=\"http://www.w3.org/2000/svg\" height=\"24px\"viewBox=\"0 0 24 24\"\n",
              "       width=\"24px\">\n",
              "    <path d=\"M0 0h24v24H0V0z\" fill=\"none\"/>\n",
              "    <path d=\"M18.56 5.44l.94 2.06.94-2.06 2.06-.94-2.06-.94-.94-2.06-.94 2.06-2.06.94zm-11 1L8.5 8.5l.94-2.06 2.06-.94-2.06-.94L8.5 2.5l-.94 2.06-2.06.94zm10 10l.94 2.06.94-2.06 2.06-.94-2.06-.94-.94-2.06-.94 2.06-2.06.94z\"/><path d=\"M17.41 7.96l-1.37-1.37c-.4-.4-.92-.59-1.43-.59-.52 0-1.04.2-1.43.59L10.3 9.45l-7.72 7.72c-.78.78-.78 2.05 0 2.83L4 21.41c.39.39.9.59 1.41.59.51 0 1.02-.2 1.41-.59l7.78-7.78 2.81-2.81c.8-.78.8-2.07 0-2.86zM5.41 20L4 18.59l7.72-7.72 1.47 1.35L5.41 20z\"/>\n",
              "  </svg>\n",
              "      </button>\n",
              "      \n",
              "  <style>\n",
              "    .colab-df-container {\n",
              "      display:flex;\n",
              "      flex-wrap:wrap;\n",
              "      gap: 12px;\n",
              "    }\n",
              "\n",
              "    .colab-df-convert {\n",
              "      background-color: #E8F0FE;\n",
              "      border: none;\n",
              "      border-radius: 50%;\n",
              "      cursor: pointer;\n",
              "      display: none;\n",
              "      fill: #1967D2;\n",
              "      height: 32px;\n",
              "      padding: 0 0 0 0;\n",
              "      width: 32px;\n",
              "    }\n",
              "\n",
              "    .colab-df-convert:hover {\n",
              "      background-color: #E2EBFA;\n",
              "      box-shadow: 0px 1px 2px rgba(60, 64, 67, 0.3), 0px 1px 3px 1px rgba(60, 64, 67, 0.15);\n",
              "      fill: #174EA6;\n",
              "    }\n",
              "\n",
              "    [theme=dark] .colab-df-convert {\n",
              "      background-color: #3B4455;\n",
              "      fill: #D2E3FC;\n",
              "    }\n",
              "\n",
              "    [theme=dark] .colab-df-convert:hover {\n",
              "      background-color: #434B5C;\n",
              "      box-shadow: 0px 1px 3px 1px rgba(0, 0, 0, 0.15);\n",
              "      filter: drop-shadow(0px 1px 2px rgba(0, 0, 0, 0.3));\n",
              "      fill: #FFFFFF;\n",
              "    }\n",
              "  </style>\n",
              "\n",
              "      <script>\n",
              "        const buttonEl =\n",
              "          document.querySelector('#df-41f7edc4-11bf-489a-aff8-af073df0cd61 button.colab-df-convert');\n",
              "        buttonEl.style.display =\n",
              "          google.colab.kernel.accessAllowed ? 'block' : 'none';\n",
              "\n",
              "        async function convertToInteractive(key) {\n",
              "          const element = document.querySelector('#df-41f7edc4-11bf-489a-aff8-af073df0cd61');\n",
              "          const dataTable =\n",
              "            await google.colab.kernel.invokeFunction('convertToInteractive',\n",
              "                                                     [key], {});\n",
              "          if (!dataTable) return;\n",
              "\n",
              "          const docLinkHtml = 'Like what you see? Visit the ' +\n",
              "            '<a target=\"_blank\" href=https://colab.research.google.com/notebooks/data_table.ipynb>data table notebook</a>'\n",
              "            + ' to learn more about interactive tables.';\n",
              "          element.innerHTML = '';\n",
              "          dataTable['output_type'] = 'display_data';\n",
              "          await google.colab.output.renderOutput(dataTable, element);\n",
              "          const docLink = document.createElement('div');\n",
              "          docLink.innerHTML = docLinkHtml;\n",
              "          element.appendChild(docLink);\n",
              "        }\n",
              "      </script>\n",
              "    </div>\n",
              "  </div>\n",
              "  "
            ]
          },
          "metadata": {},
          "execution_count": 80
        }
      ]
    },
    {
      "cell_type": "markdown",
      "source": [
        "###**Justificación**\n",
        "\n",
        "* ¿Cuáles escenarios son los más favorables para la problemática? Los escenarios más favorables son aquellos con regresión lineal simple, pero sobre todo regresión lineal múltiple, debido a que fue donde se obtuvo un mayor coeficiente de determinación y correlación, siendo alrededor del 80%.\n",
        "Por lo tanto este modelo, es conveniente para nuestra problemática sobre los datos financieros que queremos mostrar del cliente. \n",
        "Además observamos que las correlaciones son fuertes y positivas, mientras que con el coeficiente de determinación se explica en buen medida la variabilidad de los modelos.  \n",
        "\n",
        "\n",
        "* En caso de que consideren que algún método no es conveniente para su problema, justifiquen su respuesta. \n",
        "Por otro lado, el modelo no lineal no es favorable para este problema debido a que los estadísticos de coeficientes de correlación y determinación nos indican que se presenta mucha variabilidad en los datos y esta no puede ser explicada por el modelo. \n"
      ],
      "metadata": {
        "id": "1gQgLhZeW-Kl"
      }
    },
    {
      "cell_type": "markdown",
      "source": [
        "## **PUNTO 4. ANOVA**\n"
      ],
      "metadata": {
        "id": "6el9q53YXSa8"
      }
    },
    {
      "cell_type": "markdown",
      "source": [
        "**Paso 1**\n",
        "\n",
        "Generamos los grupos de nuestra variable de número facturas emitidas por el cliente 'XMLCOUNT' de acuerdo a los cuartiles para poder agruparlos según un nivel de facturación"
      ],
      "metadata": {
        "id": "FuWy2JnYdaDQ"
      }
    },
    {
      "cell_type": "code",
      "source": [
        "dfa=pd.read_excel('mergefinalA.xlsx')\n",
        "dfa=dfa.dropna(axis=0,how='any')"
      ],
      "metadata": {
        "id": "YAmyUyOve4Vm"
      },
      "execution_count": null,
      "outputs": []
    },
    {
      "cell_type": "code",
      "source": [
        "dfa['XMLCOUNT']=dfa['XMLCOUNT'].astype({'XMLCOUNT': 'float64'})"
      ],
      "metadata": {
        "id": "STHPNZrukFEy"
      },
      "execution_count": null,
      "outputs": []
    },
    {
      "cell_type": "code",
      "source": [
        "dfa.loc[(dfa['XMLCOUNT']<= 23.0), 'XMLCOUNT_group']= 'facturación muy baja'\n",
        "dfa.loc[(dfa['XMLCOUNT']> 23)& (dfa['XMLCOUNT']< 154), 'XMLCOUNT_group']= 'facturación baja'\n",
        "dfa.loc[(dfa['XMLCOUNT']> 154)& (dfa['XMLCOUNT']< 618), 'XMLCOUNT_group']= 'facturación media'\n",
        "dfa.loc[(dfa['XMLCOUNT']>=618), 'XMLCOUNT_group']= 'facturación alta'\n",
        "\n",
        "dfa['XMLCOUNT_group'].value_counts()\n"
      ],
      "metadata": {
        "colab": {
          "base_uri": "https://localhost:8080/"
        },
        "id": "Y70fQJ8JaE8A",
        "outputId": "594faae7-16e3-46bd-af57-c5c490e9172b"
      },
      "execution_count": null,
      "outputs": [
        {
          "output_type": "execute_result",
          "data": {
            "text/plain": [
              "facturación alta        40124\n",
              "facturación muy baja    38893\n",
              "facturación baja        36374\n",
              "facturación media       35863\n",
              "Name: XMLCOUNT_group, dtype: int64"
            ]
          },
          "metadata": {},
          "execution_count": 72
        }
      ]
    },
    {
      "cell_type": "code",
      "source": [
        "#grupos a comparar\n",
        "Tax_muybaja = dfa[dfa['XMLCOUNT_group'] == 'facturación muy baja']['TOTALREGISTERTAX']\n",
        "Tax_baja = dfa[dfa['XMLCOUNT_group'] == 'facturación baja']['TOTALREGISTERTAX']\n",
        "Tax_media = dfa[dfa['XMLCOUNT_group'] == 'facturación media']['TOTALREGISTERTAX']\n",
        "Tax_alta = dfa[dfa['XMLCOUNT_group'] == 'facturación alta']['TOTALREGISTERTAX']"
      ],
      "metadata": {
        "id": "hRReTQ1kbiVZ"
      },
      "execution_count": null,
      "outputs": []
    },
    {
      "cell_type": "markdown",
      "source": [
        "**Paso 2**\n",
        "\n",
        "Obtenemos los estadísticos de P-value y f_stat"
      ],
      "metadata": {
        "id": "80wuIfXTeqgN"
      }
    },
    {
      "cell_type": "code",
      "source": [
        "import scipy.stats\n",
        "f_stat, p_value = scipy.stats.f_oneway(Tax_muybaja,Tax_baja,Tax_media,Tax_alta)\n",
        "print('F_stat: {0}, P-value: {1}'.format(f_stat, p_value))"
      ],
      "metadata": {
        "colab": {
          "base_uri": "https://localhost:8080/"
        },
        "id": "rBeVUXTYcyhk",
        "outputId": "cd23b083-c866-4227-fbee-359739a3a282"
      },
      "execution_count": null,
      "outputs": [
        {
          "output_type": "stream",
          "name": "stdout",
          "text": [
            "F_stat: 73.25542595255634, P-value: 2.4409878575811054e-47\n"
          ]
        }
      ]
    },
    {
      "cell_type": "markdown",
      "source": [
        "**Paso 3**\n",
        "\n",
        "Obtenemos el estadístico SST\n"
      ],
      "metadata": {
        "id": "s-wP5sjxsrXY"
      }
    },
    {
      "cell_type": "code",
      "source": [
        "# X bar : Mean of means\n",
        "mu_X = dfa['XMLCOUNT'].mean().mean()\n",
        "sst = ((dfa['XMLCOUNT']-mu_X)**2).sum().sum()\n",
        "dfa_sst = dfa.shape[1]*dfa.shape[0]-1\n",
        "print('SST:', sst, ' df(w):', dfa_sst) #df= grados de libertad"
      ],
      "metadata": {
        "colab": {
          "base_uri": "https://localhost:8080/"
        },
        "id": "k1B4yWcAoclc",
        "outputId": "34755d7c-5dda-48b9-cd87-f00603a07859"
      },
      "execution_count": null,
      "outputs": [
        {
          "output_type": "stream",
          "name": "stdout",
          "text": [
            "SST: 105778738322.55986  df(w): 5597819\n"
          ]
        }
      ]
    },
    {
      "cell_type": "markdown",
      "source": [
        " Test de Hipótesis usando el estadístico F\n",
        "* $H_0$: Las medias de los grupos son iguales? (hipótesis nula)\n",
        "$\\bar{x}_1=\\bar{x}_2=\\bar{x}_3$\n",
        "* $H_1$: al menos una media es diferente: $\\bar{x}_1\\neq\\bar{x}_2$ ó $\\bar{x}_1\\neq\\bar{x}_3$ ó $\\bar{x}_2\\neq\\bar{x}_3$\n"
      ],
      "metadata": {
        "id": "TizsQGoNdR0z"
      }
    },
    {
      "cell_type": "markdown",
      "source": [
        "**Justificación**:\n",
        "\n",
        "*P-value*\n",
        "\n",
        "El valor de p-value es menor a 0.05, siendo de **2.4 e-47** entonces rechazamos $H_0$ (nula) y acepta la hipótesis alternativa pues hay evidencia significativa de que al menos una de las medias de 'TOTALREGISTERTAX' es diferente.\n",
        "\n",
        "*F stat*\n",
        "\n",
        "En cambio, F_stat es la proporción de varianza explicada del total de varianza, en nuestro caso es de 73.4. Este se usa en conjunto con el P-value para determinar si se usa un modelo y se descarta, entre más alto sea el valor, mas variación entre los grupos de datos existe, además de que es menos significativo para el análisis y también ayuda a saber si la hipótesis nula se descarta.Por lo tanto, con nuestro resultado el modelo presenta una varianza muy grande en los datos, sin embargo dado que el P-value es practicamente cero (0) se rechaza la hipótesis nula y se mantiene el modelo con la hipótesis alterna. \n",
        "\n",
        "\n",
        "*SST (Total Sum of Squares)*\n",
        "\n",
        "En cuanto al valor de la variación Total tenemos un valor de 105253263286.9, por lo tanto concluimos que al ser un número grande, tenemos una desviación mayor de los datos con respecto a la media.  "
      ],
      "metadata": {
        "id": "hMwPsO5kzF3P"
      }
    },
    {
      "cell_type": "markdown",
      "source": [
        "##**Punto 5. Conclusiones Personales**"
      ],
      "metadata": {
        "id": "kFQPua9GtkW9"
      }
    },
    {
      "cell_type": "markdown",
      "source": [
        "* ¿Cómo avanzó su proyecto con la aplicación de estas técnicas? (respecto a su primera entrega)\n",
        "* Relaciona el objetivo de su proyecto con los avances que tienen hasta el momento"
      ],
      "metadata": {
        "id": "_xNQYhjjt3Gq"
      }
    },
    {
      "cell_type": "markdown",
      "source": [
        "**Tere Hernández**\n",
        "\n",
        "..."
      ],
      "metadata": {
        "id": "Zw_V4s6SF2SX"
      }
    },
    {
      "cell_type": "markdown",
      "source": [
        "**Estephania Vázquez**"
      ],
      "metadata": {
        "id": "YXENjYD7VpBz"
      }
    }
  ],
  "metadata": {
    "colab": {
      "collapsed_sections": [
        "b38rub-qVmpv",
        "ZlugDk2mnGPX",
        "T77OHtH6nOtl",
        "iSPc8nqHnShA",
        "k7ZQkxiiYJQ8",
        "zDL7GXgqisLn",
        "liA6Ws54ixwA",
        "XLV14kxrmDFH",
        "8J9YovyNUCxJ",
        "6el9q53YXSa8"
      ],
      "provenance": [],
      "include_colab_link": true
    },
    "kernelspec": {
      "display_name": "Python 3",
      "name": "python3"
    },
    "language_info": {
      "name": "python"
    }
  },
  "nbformat": 4,
  "nbformat_minor": 0
}